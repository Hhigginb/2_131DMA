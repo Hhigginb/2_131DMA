{
 "cells": [
  {
   "cell_type": "code",
   "execution_count": null,
   "id": "f6c7fe69-ac4e-4154-8a13-1d447d919d86",
   "metadata": {},
   "outputs": [],
   "source": [
    "nperseg = 512\n",
    "f,Pxx = signal.welch(x,1/dt,nperseg=nperseg)\n",
    "\n",
    "f,Pxy = signal.csd(x,y,1/dt,nperseg=nperseg)\n",
    "\n",
    "# compute transfer function\n",
    "Hxy = Pxy/Pxx\n",
    "\n",
    "# compute coherence\n",
    "f,Cxy=signal.coherence(x,y,1/dt"
   ]
  }
 ],
 "metadata": {
  "kernelspec": {
   "display_name": "Python 3 (ipykernel)",
   "language": "python",
   "name": "python3"
  },
  "language_info": {
   "codemirror_mode": {
    "name": "ipython",
    "version": 3
   },
   "file_extension": ".py",
   "mimetype": "text/x-python",
   "name": "python",
   "nbconvert_exporter": "python",
   "pygments_lexer": "ipython3",
   "version": "3.10.9"
  }
 },
 "nbformat": 4,
 "nbformat_minor": 5
}
