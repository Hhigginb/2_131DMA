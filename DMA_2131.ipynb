{
 "cells": [
  {
   "attachments": {},
   "cell_type": "markdown",
   "id": "ed7a7abd-d6e2-4f59-826d-6b7fa42df3c7",
   "metadata": {
    "tags": []
   },
   "source": [
    "##  $$\\color{blue}{\\text{2.131: Artificial Muscle}} $$"
   ]
  },
  {
   "attachments": {},
   "cell_type": "markdown",
   "id": "8a898baa-f82e-456b-b6be-310cf48051b7",
   "metadata": {
    "tags": []
   },
   "source": [
    "#### <center> HH, 9 May 2023"
   ]
  },
  {
   "attachments": {},
   "cell_type": "markdown",
   "id": "bc81416f-824c-4301-a1bb-e5061935bab2",
   "metadata": {
    "tags": []
   },
   "source": [
    "Version Notes:  \n",
    "-  9 May 2023 Started from StepMotor code, added Potentiometer and Load Cell codes\n",
    "- 11 May 2023 Tried to add frequency sweep from Digilent SDK (should it instead be a direct looping call to AnalogOut_Sine? How long does each freq need to run?)\n",
    "\n",
    "To do:\n",
    "- output time stamps for freq switches?\n",
    "- test calls to Digilent\n",
    "- test call to stepper motor\n",
    "- confirm data file generation"
   ]
  },
  {
   "attachments": {},
   "cell_type": "markdown",
   "id": "6c37aae0-f752-4fdf-84bc-87a9323e2c9d",
   "metadata": {
    "tags": []
   },
   "source": [
    "***"
   ]
  },
  {
   "attachments": {},
   "cell_type": "markdown",
   "id": "4a8f6ede-4ed3-475a-b822-6b986ac91def",
   "metadata": {
    "tags": []
   },
   "source": [
    "#### Objectives"
   ]
  },
  {
   "attachments": {},
   "cell_type": "markdown",
   "id": "76559ced-8572-404c-9ccc-5f09c9ebcfea",
   "metadata": {},
   "source": [
    "Notes from Michael:\n",
    "-map displacement to load/vice versa, calculate gain/phase/transfer function for dif freq.s (can try to fit second order model to transfer function)\n",
    "-try 100 freq.s (call digilent with SDK python examples)\n",
    "-define in terms of mechanical impedance vs freq.\n",
    "-any sense of what mech impedance to expect for "
   ]
  },
  {
   "attachments": {},
   "cell_type": "markdown",
   "id": "0a00462c-f821-41ff-9560-27002d69c8fe",
   "metadata": {
    "tags": []
   },
   "source": [
    "-drive a geared step motor (see https://www.omc-stepperonline.com/download/17HS13-0404S-PG5.pdf ) to desired position or until desired force condition\n",
    "\n",
    "-input waveform to LFA\n",
    "\n",
    "-read position from potentiometer\n",
    "\n",
    "-read load from load cell"
   ]
  },
  {
   "attachments": {},
   "cell_type": "markdown",
   "id": "90177d42-f428-4ecd-a7c4-201c07dc9340",
   "metadata": {
    "tags": []
   },
   "source": [
    "stepper is driven by a TinkerForge step motor controller (called the TinkerForge Silent Stepper Bricklet (see https://www.tinkerforge.com/en/doc/Hardware/Bricklets/Silent_Stepper_V2.html ) or the TinkerForge Silent Stepper Brick (see https://www.tinkerforge.com/en/doc/Hardware/Bricks/Silent_Stepper_Brick.html ) and powered by DeWalt 20V battery.\n",
    "Waveform is delivered from Digilent to amplifier to LFA.\n",
    "Potentiometer is read by bricklet (Industrial Dual Analog In).\n",
    "Load cell is read by load cell bricklet."
   ]
  },
  {
   "attachments": {},
   "cell_type": "markdown",
   "id": "2c81f5d7-8630-458e-82c3-6674ffb02d93",
   "metadata": {
    "tags": []
   },
   "source": [
    "#### Import Standard Libraries"
   ]
  },
  {
   "cell_type": "code",
   "execution_count": 3,
   "id": "30b46cb3-8c49-4bd3-827e-a8ae24858c02",
   "metadata": {
    "tags": []
   },
   "outputs": [
    {
     "ename": "ModuleNotFoundError",
     "evalue": "No module named 'digilent'",
     "output_type": "error",
     "traceback": [
      "\u001b[1;31m---------------------------------------------------------------------------\u001b[0m",
      "\u001b[1;31mModuleNotFoundError\u001b[0m                       Traceback (most recent call last)",
      "Cell \u001b[1;32mIn[3], line 5\u001b[0m\n\u001b[0;32m      3\u001b[0m \u001b[38;5;28;01mimport\u001b[39;00m \u001b[38;5;21;01mtime\u001b[39;00m\n\u001b[0;32m      4\u001b[0m \u001b[38;5;28;01mfrom\u001b[39;00m \u001b[38;5;21;01mscipy\u001b[39;00m \u001b[38;5;28;01mimport\u001b[39;00m stats\n\u001b[1;32m----> 5\u001b[0m \u001b[38;5;28;01mfrom\u001b[39;00m \u001b[38;5;21;01mdigilent\u001b[39;00m \u001b[38;5;28;01mimport\u001b[39;00m discovery\n\u001b[0;32m      7\u001b[0m get_ipython()\u001b[38;5;241m.\u001b[39mrun_line_magic(\u001b[38;5;124m'\u001b[39m\u001b[38;5;124mmatplotlib\u001b[39m\u001b[38;5;124m'\u001b[39m, \u001b[38;5;124m'\u001b[39m\u001b[38;5;124minline\u001b[39m\u001b[38;5;124m'\u001b[39m)\n\u001b[0;32m      8\u001b[0m \u001b[38;5;66;03m#%config InlineBackend.figure_format = 'png' # use 'png' instead of 'svg' when converting to HTML for assignment submission\u001b[39;00m\n",
      "\u001b[1;31mModuleNotFoundError\u001b[0m: No module named 'digilent'"
     ]
    }
   ],
   "source": [
    "import numpy as np # works with complex but one of the arguments must be complex\n",
    "import matplotlib.pyplot as plt\n",
    "import time\n",
    "from scipy import stats\n",
    "# from digilent import discovery\n",
    "\n",
    "%matplotlib inline\n",
    "#%config InlineBackend.figure_format = 'png' # use 'png' instead of 'svg' when converting to HTML for assignment submission\n",
    "%config InlineBackend.figure_format = 'svg' # this is key to improving plot resolution"
   ]
  },
  {
   "attachments": {},
   "cell_type": "markdown",
   "id": "ccda4999-b9d1-4323-a4c6-b12cd7cabb96",
   "metadata": {
    "tags": []
   },
   "source": [
    "#### Setup Devices"
   ]
  },
  {
   "cell_type": "code",
   "execution_count": 91,
   "id": "fa769bad-7444-44df-89b3-5e4847ab1baa",
   "metadata": {
    "tags": []
   },
   "outputs": [],
   "source": [
    "# Only need to do this after a JupyterLab upgrade\n",
    "#!pip install tinkerforge"
   ]
  },
  {
   "cell_type": "code",
   "execution_count": 92,
   "id": "7e14b739-bff3-4206-ac7c-f05fd0d8e2b9",
   "metadata": {
    "tags": []
   },
   "outputs": [],
   "source": [
    "HOST = \"localhost\"\n",
    "PORT = 4223\n",
    "UID_SS = \"21bZ\" # Change XYZ to the UID of your Silent Stepper Bricklet\n",
    "UID = \"LZv\" # Change XYZ to the UID of your Industrial Dual Analog In Bricklet 2.0\n",
    "UID_LC = \"Kin\" # Change XYZ to the UID of your Load Cell Bricklet 2.0\n",
    "\n",
    "from tinkerforge.ip_connection import IPConnection\n",
    "from tinkerforge.bricklet_silent_stepper_v2 import BrickletSilentStepperV2\n",
    "#from tinkerforge.brick_silent_stepper import BrickSilentStepper\n",
    "from tinkerforge.bricklet_industrial_dual_analog_in_v2 import BrickletIndustrialDualAnalogInV2\n",
    "from tinkerforge.bricklet_load_cell_v2 import BrickletLoadCellV2\n",
    "from datetime import datetime\n",
    "from csv import writer\n",
    "\n",
    "from ctypes import *\n",
    "from dwfconstants import *\n",
    "import sys\n",
    "\n",
    "ipcon = IPConnection() # Create IP connection\n",
    "# remember to use the TinkerForge viewer to get the UID's of the various devices below (red string)\n",
    "\n",
    "ss = BrickletSilentStepperV2(UID_SS, ipcon) # Create device object\n",
    "#ss = BrickSilentStepper(UID_SS, ipcon) # Create device object\n",
    "idai = BrickletIndustrialDualAnalogInV2(UID, ipcon) # Create device object\n",
    "lc = BrickletLoadCellV2(UID_LC, ipcon) # Create device object\n",
    "\n",
    "ipcon.connect(HOST, PORT) # Connect to brickd\n",
    "time.sleep(1) # Don't use device before ipcon is connected\n",
    "\n",
    "if sys.platform.startswith(\"win\"):\n",
    "    dwf = cdll.dwf\n",
    "elif sys.platform.startswith(\"darwin\"):\n",
    "    dwf = cdll.LoadLibrary(\"/Library/Frameworks/dwf.framework/dwf\")\n",
    "else:\n",
    "    dwf = cdll.LoadLibrary(\"libdwf.so\")\n",
    "\n",
    "hdwf = c_int()\n",
    "channel = c_int(0)\n",
    "\n",
    "version = create_string_buffer(16)\n",
    "dwf.FDwfGetVersion(version)\n",
    "print(\"DWF Version: \"+str(version.value))\n",
    "\n",
    "# prevent temperature drift\n",
    "dwf.FDwfParamSet(DwfParamOnClose, c_int(0)) # 0 = run, 1 = stop, 2 = shutdown\n",
    "\n",
    "#open device\n",
    "print(\"Opening first device...\")\n",
    "dwf.FDwfDeviceOpen(c_int(-1), byref(hdwf))\n",
    "\n",
    "\n",
    "if hdwf.value == hdwfNone.value:\n",
    "    print(\"failed to open device\")\n",
    "    quit()"
   ]
  },
  {
   "attachments": {},
   "cell_type": "markdown",
   "id": "195b974a-dd05-41fa-8149-549cf492093f",
   "metadata": {},
   "source": [
    "\n",
    "Don't forget to calibrate load cell and potentiometer (convert voltage to position)"
   ]
  },
  {
   "attachments": {},
   "cell_type": "markdown",
   "id": "2925660f-ca7c-4ef0-94ac-99fd0ee3aec1",
   "metadata": {},
   "source": [
    "#### Run Frequency Sweep Experiment"
   ]
  },
  {
   "cell_type": "code",
   "execution_count": null,
   "id": "d8a039f2-3897-4ace-bd17-0d4192d1fddd",
   "metadata": {},
   "outputs": [],
   "source": [
    "Load_file = datetime.now().strftime('Load-%Y-%m-%d-%H-%M-%S.csv')\n",
    "Pos_file = datetime.now().strftime('Pos-%Y-%m-%d-%H-%M-%S.csv')\n",
    "\n",
    "# Callback function for weight callback\n",
    "def cb_weight(weight):\n",
    "    with open(Load_file, 'a') as f_object_load:\n",
    "        writer_object_load = writer(f_object_load)\n",
    "        writer_object_load.writerow([datetime.now().strftime('%H:%M:%S:%f'),weight])\n",
    "        f_object_load.close()\n",
    "        #print(\"Weight: \" + str(weight) + \" g\")\n",
    "        \n",
    "# Callback function for voltage callback\n",
    "def cb_voltage(channel, voltage):\n",
    "    with open(Pos_file, 'a') as f_object_pos:\n",
    "        #insert voltage to position conversion\n",
    "        writer_object_pos = writer(f_object_pos)\n",
    "        writer_object_pos.writerow([datetime.now().strftime('%H:%M:%S:%f'),voltage])\n",
    "        f_object_pos.close()\n",
    "        #print(\"Voltage: \" + str(voltage/1000.0) + \" V\")\n",
    "        \n",
    "# Set period for weight callback to 12ms without a threshold\n",
    "lc.set_weight_callback_configuration(12, False, \"x\", 0, 0)\n",
    "# Callback\n",
    "lc.register_callback(lc.CALLBACK_WEIGHT, cb_weight)\n",
    "\n",
    "# Set period for voltage (channel 0) callback to 12ms without a threshold\n",
    "idai.set_voltage_callback_configuration(0, 12, False, \"x\", 0, 0)\n",
    "# Register voltage callback to function cb_voltage\n",
    "idai.register_callback(idai.CALLBACK_VOLTAGE, cb_voltage)\n",
    "\n",
    "freq_min = 0.2 #Hz\n",
    "freq_max = 30\n",
    "n = 100 # number of frequencies\n",
    "amp = 0.11 # V\n",
    "offset = -0.16\n",
    "\n",
    "f = np.linspace(freq_min,freq_max,n)\n",
    "j = 0\n",
    "\n",
    "# 0 = the device will be configured only when calling FDwf###Configure\n",
    "dwf.FDwfDeviceAutoConfigureSet(hdwf, c_int(0))\n",
    "\n",
    "dwf.FDwfAnalogOutNodeEnableSet(hdwf, channel, AnalogOutNodeCarrier, c_int(1))\n",
    "dwf.FDwfAnalogOutNodeFunctionSet(hdwf, channel, AnalogOutNodeCarrier, funcSine)\n",
    "dwf.FDwfAnalogOutNodeAmplitudeSet(hdwf, channel, AnalogOutNodeCarrier, c_double(amp))\n",
    "dwf.FDwfAnalogOutNodeOffsetSet(hdwf, channel, AnalogOutNodeCarrier, c_double(offset))\n",
    "\n",
    "while j<len(f):\n",
    "    dwf.FDwfAnalogOutNodeFrequencySet(hdwf, channel, AnalogOutNodeCarrier, c_double(f[j]))\n",
    "\n",
    "    print(\"Generating sine wave...freq: \"+str(f[j])+\" Hz\")\n",
    "    dwf.FDwfAnalogOutConfigure(hdwf, channel, c_int(1))\n",
    "\n",
    "    time.sleep(10/f[j]) # wait until 10 samples can be acquired\n",
    "    j = j+1\n",
    "\n",
    "dwf.FDwfDeviceClose(hdwf)\n",
    "input(\"Press key to exit\\n\") # Use raw_input() in Python 2\n",
    "ipcon.disconnect()"
   ]
  },
  {
   "attachments": {},
   "cell_type": "markdown",
   "id": "63672a73-9b03-470e-84de-cef366db9757",
   "metadata": {},
   "source": [
    "#### Set Stepper Parameters"
   ]
  },
  {
   "cell_type": "code",
   "execution_count": 93,
   "id": "3c690dc8-4b84-4552-a054-aced269fb3b3",
   "metadata": {
    "tags": []
   },
   "outputs": [],
   "source": [
    "# Step motors have 200 marco steps/rev\n",
    "# the gear box is 5.18:1 which means that the step motor has to rotate 5.18 revs to produce 1 rev of gear box output shaft\n",
    "ss.set_motor_current(800) # 800 mA\n",
    "ss.set_step_configuration(ss.STEP_RESOLUTION_128, True) # 128 micro-steps (usteps) per macro step\n",
    "# 128 * 200 usteps per rev = 25,600 usteps/rev\n",
    "ss.set_max_velocity(round(1280*5.18)) # Velocity 1,280 * 5.18 usteps/s = 0.05 rev /s of gear box output shaft\n",
    "# max velocity is 2**16-1 = 65,535\n",
    "ss.set_speed_ramping(65535,65535) # max accel and decel\n",
    "\n",
    "ss.set_enabled(False) # Disable motor power\n",
    "#ss.enable() # Enable motor power"
   ]
  },
  {
   "attachments": {},
   "cell_type": "markdown",
   "id": "349aad4d-2a32-4d19-8f73-9eda0d20859d",
   "metadata": {},
   "source": [
    "#### Run Tensile Test"
   ]
  },
  {
   "cell_type": "code",
   "execution_count": null,
   "id": "3c09aa5c-2c62-4257-98d2-fb209c536e76",
   "metadata": {},
   "outputs": [],
   "source": [
    "F_file = datetime.now().strftime('F-%Y-%m-%d-%H-%M-%S.csv')\n",
    "i = 0\n",
    "t0=time.perf_counter() # starting time in s\n",
    "\n",
    "# Callback function for weight callback\n",
    "def cb_weight(weight):\n",
    "    with open(F_file, 'a') as f_object_f:\n",
    "        writer_object_f = writer(f_object_f)\n",
    "        writer_object_f.writerow([datetime.now().strftime('%H:%M:%S:%f'),weight])\n",
    "        f_object_f.close()\n",
    "        #print(\"Weight: \" + str(weight) + \" g\")\n",
    "        \n",
    "def cb_position_reached(position, ss):\n",
    "    t[i]=time.perf_counter()-t0 # time in s\n",
    "    pos[i]=ss.get_current_position() # step motor position\n",
    "    i = i+1\n",
    "    ss.set_steps(10)\n",
    "        \n",
    "\n",
    "# Set period for weight callback to 12ms without a threshold\n",
    "lc.set_weight_callback_configuration(12, False, \"x\", 0, 0)\n",
    "# Callback\n",
    "lc.register_callback(lc.CALLBACK_WEIGHT, cb_weight)\n",
    "\n",
    "# alternatively: run stepper while F > threshold (threshold indicates when fiber breaks)\n",
    "\n",
    "# Register move callback to function cb_move\n",
    "ss.register_callback(ss.CALLBACK_POSITION_REACHED,\n",
    "                         lambda x: cb_position_reached(x, ss))\n",
    "\n",
    "ss.set_enabled(True) # Enable motor power\n",
    "ss.set_steps(1) # Drive one step forward to get things going\n",
    "\n",
    "\n",
    "input(\"Press key to exit when fiber has failed\\n\") # Use raw_input() in Python 2\n",
    "\n",
    "# Stop motor before disabling motor power\n",
    "ss.stop() # Request motor stop\n",
    "ss.set_speed_ramping(500, 5000) # Fast deacceleration (5000 steps/s^2) for stopping\n",
    "time.sleep(0.4) # Wait for motor to actually stop: max velocity (2000 steps/s) / decceleration (5000 steps/s^2) = 0.4 s\n",
    "ss.set_enabled(False) # Disable motor power\n",
    "\n",
    "ipcon.disconnect()"
   ]
  },
  {
   "attachments": {},
   "cell_type": "markdown",
   "id": "296f7074-dd49-44ea-a240-ecb6c944f097",
   "metadata": {},
   "source": [
    "#### Plot Data"
   ]
  },
  {
   "cell_type": "code",
   "execution_count": null,
   "id": "8fc3a823-3833-4025-83f6-329139f10086",
   "metadata": {
    "tags": []
   },
   "outputs": [],
   "source": []
  }
 ],
 "metadata": {
  "kernelspec": {
   "display_name": "Python 3 (ipykernel)",
   "language": "python",
   "name": "python3"
  },
  "language_info": {
   "codemirror_mode": {
    "name": "ipython",
    "version": 3
   },
   "file_extension": ".py",
   "mimetype": "text/x-python",
   "name": "python",
   "nbconvert_exporter": "python",
   "pygments_lexer": "ipython3",
   "version": "3.10.9"
  }
 },
 "nbformat": 4,
 "nbformat_minor": 5
}
