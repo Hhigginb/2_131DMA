{
 "cells": [
  {
   "cell_type": "markdown",
   "id": "243fa998-e987-4ace-9738-4c7f793868d9",
   "metadata": {},
   "source": [
    "***"
   ]
  },
  {
   "cell_type": "markdown",
   "id": "8c8f3802-205b-48e7-911f-e88ef58ed188",
   "metadata": {
    "tags": []
   },
   "source": [
    "#### System transfer function (s-domain)"
   ]
  },
  {
   "cell_type": "markdown",
   "id": "dcf32a78-9fb6-46cb-88a7-8b45bea6e4a1",
   "metadata": {
    "tags": []
   },
   "source": [
    "Let's start with a second-order low-pass system defined by its transfer function with"
   ]
  },
  {
   "cell_type": "markdown",
   "id": "deeca0eb-69cd-43b9-95a3-7bd397e65f3a",
   "metadata": {
    "tags": []
   },
   "source": [
    "$$ H(s) = \\frac{G \\omega _{n}^2}{s^2+2\\zeta\\omega_{n}s+\\omega_{n}^2} $$ "
   ]
  },
  {
   "cell_type": "markdown",
   "id": "fab6fb5b-e72f-495d-975c-d9c894f39754",
   "metadata": {
    "tags": []
   },
   "source": [
    "where $G$ is the system static gain, $\\omega_{n}$ is the natural frequency, and $\\zeta$ is the damping parameter."
   ]
  },
  {
   "cell_type": "markdown",
   "id": "cfaaff98-71df-4b36-ab20-23e00f11a127",
   "metadata": {},
   "source": [
    "If we include a pure delay, $\\delta $, we get"
   ]
  },
  {
   "cell_type": "markdown",
   "id": "c2a49bca-d341-4344-bb5f-8ace34c92914",
   "metadata": {
    "tags": []
   },
   "source": [
    "$$ H(s) = \\frac{G \\omega _{n}^2}{s^2+2\\zeta\\omega_{n}s+\\omega_{n}^2}e^{-\\delta s} $$ "
   ]
  },
  {
   "cell_type": "markdown",
   "id": "3b3b88f1-9444-454f-990e-e91397547a55",
   "metadata": {},
   "source": [
    "#### System impulse and step response functions (time domain)"
   ]
  },
  {
   "cell_type": "markdown",
   "id": "04e1f27f-9a8c-473d-aeb6-65fdca1da494",
   "metadata": {
    "tags": []
   },
   "source": [
    "The inverse Laplace transform of the system transfer function is the parametric system impulse response function (we could use the python symbolic package, sympy, to do this). The function defined below is the general form of a parametric second-order, low-pass impulse response function:"
   ]
  },
  {
   "cell_type": "markdown",
   "id": "47455c13-4308-491b-9c77-24c9cf3a194f",
   "metadata": {
    "tags": []
   },
   "source": [
    "$$ h(\\tau) = \\frac{e^{-\\omega_{n}\\tau\\zeta}G\\omega_{n}sinh(\\omega_{n}\\tau\\sqrt{\\zeta^2-1})}{\\sqrt{\\zeta^2-1}} $$"
   ]
  },
  {
   "cell_type": "markdown",
   "id": "7325c6cd-2b88-4c03-8a58-380a3a8b3ee7",
   "metadata": {},
   "source": [
    "And if we include a pure delay, $\\delta$, we get"
   ]
  },
  {
   "cell_type": "markdown",
   "id": "f75bc10b-7f6e-4d52-8272-2ea12e3352d7",
   "metadata": {
    "tags": []
   },
   "source": [
    "$$ h(\\tau) = \\frac{e^{-\\omega_{n}(\\tau-\\delta)\\zeta}G\\omega_{n}sinh(\\omega_{n}(\\tau-\\delta)\\sqrt{\\zeta^2-1})}{\\sqrt{\\zeta^2-1}} $$"
   ]
  },
  {
   "cell_type": "markdown",
   "id": "ef41b401-00a6-423b-8dd3-ca3bdab0120a",
   "metadata": {
    "tags": []
   },
   "source": [
    "We now define a python functions, to evaluate $H(s)$ and $h(\\tau)$ "
   ]
  },
  {
   "cell_type": "code",
   "execution_count": null,
   "id": "dbf1f5c3-3840-4217-8801-533674e36361",
   "metadata": {},
   "outputs": [],
   "source": [
    "import csv\n",
    "\n",
    "with open('filename.csv', 'r') as file:\n",
    "    reader = csv.reader(file)\n",
    "    for row in reader:\n",
    "        print(row)"
   ]
  },
  {
   "cell_type": "code",
   "execution_count": 1,
   "id": "ce28d48c-8a49-435c-8bad-e5f3d50e46d1",
   "metadata": {
    "tags": []
   },
   "outputs": [],
   "source": [
    "from ipywidgets import interact, interactive, fixed, interact_manual, Layout\n",
    "import ipywidgets as widgets\n",
    "import matplotlib.pyplot as plt\n",
    "import numpy as np\n",
    "%matplotlib inline\n",
    "%config InlineBackend.figure_format = 'svg' # this is key to improving plot resolution"
   ]
  },
  {
   "cell_type": "code",
   "execution_count": 2,
   "id": "39f5e9d1-ab9b-4fb6-b845-5f80a3e44ca4",
   "metadata": {
    "tags": []
   },
   "outputs": [],
   "source": [
    "def tf(s,gain,damping,natfreq,delta):\n",
    "    return gain*natfreq**2/(s**2+2*damping*natfreq*s+natfreq**2)*np.exp(-delta*s)"
   ]
  },
  {
   "cell_type": "code",
   "execution_count": 3,
   "id": "270625e1-7050-4a85-a89c-eb562a16a86b",
   "metadata": {
    "tags": []
   },
   "outputs": [],
   "source": [
    "def irf2(tau, gain, damping, natfreq, delta):\n",
    "    # evaluates a second order low pass impulse reponse function at lags, tau\n",
    "    # note that natfreq is in rad/s\n",
    "    if damping==1: # special case when damping == 1 (to avoid division by 0)\n",
    "        damp=1.00000001\n",
    "    else:\n",
    "        damp=damping\n",
    "    d=np.sqrt(complex(-1.0 + damp**2)) # note that complex is required to force np.sqrt to return a complex number\n",
    "    ir2=np.real((np.exp(-(tau-delta) * damp * natfreq) * gain * natfreq * np.sinh((tau-delta) * natfreq * d))/d)\n",
    "    return np.heaviside(tau-delta,0.5)*ir2"
   ]
  },
  {
   "cell_type": "code",
   "execution_count": 4,
   "id": "d078825d-c7c8-403c-ac16-34e0fea5dee8",
   "metadata": {
    "tags": []
   },
   "outputs": [],
   "source": [
    "def srf2(tau, gain, damping, natfreq, delta):\n",
    "    # evaluates a second order low pass unit step response function at lags, tau\n",
    "    # note that natfreq is in rad/s\n",
    "    if damping==1: \n",
    "        d=np.exp(-(tau-delta)*natfreq)\n",
    "        sr2=gain*(1-d*(1+natfreq*(tau-delta)*d))\n",
    "    elif damping<1:\n",
    "        d=np.sqrt((complex(1-damping**2))) # note that complex is required to force np.sqrt to return a complex number\n",
    "        sr2=gain*(1-(np.exp(-damping*(tau-delta)*natfreq)/d)*np.sin(natfreq*d*(tau-delta)+np.arcsin(d)))\n",
    "    else: # damping >1\n",
    "        d=np.sqrt((complex(damping**2-1))) # note that complex is required to force np.sqrt to return a complex number\n",
    "        sr2=gain*(1+(1/(2*(damping+d)*d))*np.exp(-natfreq*(damping+d)*(tau-delta))-(1/(2*(damping-d)*d))*np.exp(-natfreq*(damping-d)*(tau-delta)))\n",
    "    return np.heaviside(tau-delta,0.5)*np.real(sr2)"
   ]
  },
  {
   "cell_type": "code",
   "execution_count": 5,
   "id": "22d6d0d9-c36f-47a8-ac87-5f47cbced24a",
   "metadata": {
    "tags": []
   },
   "outputs": [],
   "source": [
    "def plot_irf2(gain,damping,natfreq,delta):\n",
    "    \n",
    "    tau=np.arange(0.0, 20, 0.001)\n",
    "    h=irf2(tau,gain,damping,natfreq,delta)\n",
    "    sr=srf2(tau,gain,damping,natfreq,delta)\n",
    "    \n",
    "    w1=natfreq*0.01\n",
    "    w2=natfreq\n",
    "    w3=natfreq*100\n",
    "    g1=np.absolute(tf(1j*w1,gain,damping,natfreq,delta))\n",
    "    g2=np.absolute(tf(1j*w2,gain,damping,natfreq,delta))\n",
    "    g3=np.absolute(tf(1j*w3,gain,damping,natfreq,delta))   \n",
    "    w=np.logspace(0, 4, 1000)\n",
    "    tfg=np.absolute(tf(1j*w,gain,damping,natfreq,delta)) # substitute s for jw\n",
    "    tfp=360*np.unwrap(np.angle(tf(1j*w,gain,damping,natfreq,delta)))/(2*np.pi) # substitute s for jw\n",
    "    \n",
    "    fig, (ax1a, ax2a) = plt.subplots(1, 2)\n",
    "    fig.suptitle('Second-order Low-pass System (natural freq in rad/s)')\n",
    "    #ax1.plot(x, y)\n",
    "    #ax2.plot(x, -y)\n",
    "    \n",
    "    plt.rcParams['figure.figsize'] = [9, 6]\n",
    "    \n",
    "    #fig, ax1 = plt.subplots()\n",
    "    ax1a.plot(tau, h, 'r',linewidth=1)\n",
    "    ax1a.set_ylim([-200,200])\n",
    "    ax1a.set_xlim([0,1])\n",
    "    ax1a.set(xlabel='Time (s)', ylabel='Impulse Response Amplitude (red)', title='Time Domain')\n",
    "    ax1a.grid()\n",
    "    \n",
    "    ax1b=ax1a.twinx()\n",
    "    ax1b.plot(tau,sr,'b',linewidth=1)\n",
    "    ax1b.set(ylabel='Step Response Amplitude (blue)')\n",
    "    ax1b.set_ylim([-4,4])\n",
    "    \n",
    "    ax2a.loglog(w/(2*np.pi), tfg,'r',linewidth=1)\n",
    "    ax2a.loglog([w1/(2*np.pi),w2/(2*np.pi)],[gain,gain],'b:',linewidth=1) \n",
    "    ax2a.loglog([w2/(2*np.pi),w3/(2*np.pi)],[gain,g3],'b:',linewidth=1)\n",
    "    ax2a.set_ylim([0.001,10])\n",
    "    ax2a.set_xlim([0.1,1000])\n",
    "    ax2a.set(xlabel='Frequency (Hz)', ylabel='Gain (red)', title='Frequency Domain')\n",
    "    #ax2a.set_yticks(np.arange(-4,2,1))\n",
    "    #ax2a.grid()\n",
    "    \n",
    "    ax2b=ax2a.twinx()\n",
    "    ax2b.semilogx(w/(2*np.pi), tfp,'b',linewidth=1)\n",
    "    ax2b.semilogx([0.1,1000],[-180,-180],'k:',linewidth=1)\n",
    "    ax2b.semilogx([0.1,1000],[-90,-90],'k:',linewidth=1)\n",
    "    ax2b.semilogx([0.1,1000],[0,0],'k:',linewidth=1)\n",
    "    ax2b.semilogx([0.1,1000],[90,90],'k:',linewidth=1)\n",
    "    ax2b.semilogx([w2/(2*np.pi),w2/(2*np.pi)],[-270,180],'k:',linewidth=1)\n",
    "    ax2b.set(ylabel='Phase (blue)')\n",
    "    ax2b.set_ylim([-270,180])\n",
    "    ax2b.set_xlim([0.1,1000])\n",
    "    ax2b.locator_params(axis = 'y', nbins = 8)\n",
    "    ax2b.set_yticks(np.arange(180,-270,-90))\n",
    "    \n",
    "    plt.tight_layout()\n",
    "    \n",
    "    plt.show()"
   ]
  },
  {
   "cell_type": "code",
   "execution_count": 6,
   "id": "7133fc5c-2017-4347-b2d2-c05327dafd39",
   "metadata": {
    "tags": []
   },
   "outputs": [
    {
     "data": {
      "application/vnd.jupyter.widget-view+json": {
       "model_id": "2fc530bd07d64159a2e0ddd8b6f62ae7",
       "version_major": 2,
       "version_minor": 0
      },
      "text/plain": [
       "interactive(children=(FloatSlider(value=2.0, description='gain', layout=Layout(width='700px'), max=4.0, min=-4…"
      ]
     },
     "metadata": {},
     "output_type": "display_data"
    },
    {
     "data": {
      "text/plain": [
       "<function __main__.plot_irf2(gain, damping, natfreq, delta)>"
      ]
     },
     "execution_count": 6,
     "metadata": {},
     "output_type": "execute_result"
    }
   ],
   "source": [
    "interact(plot_irf2, \n",
    "         gain = widgets.FloatSlider(value=2, min=-4.0, max=4.0,step=0.1,layout=Layout(width='700px')), \n",
    "         damping = widgets.FloatSlider(value=0.3, min=0.02, max=2.0,step=0.01,layout=Layout(width='700px')),\n",
    "         natfreq = widgets.FloatSlider(value=10*2*np.pi, min=10, max=200,step=1,layout=Layout(width='700px')),\n",
    "         delta = widgets.FloatSlider(value=0.0, min=0.0, max=0.02,step=0.0001,layout=Layout(width='700px'),readout_format='.4f'))"
   ]
  },
  {
   "cell_type": "code",
   "execution_count": null,
   "id": "056ee042-8df6-4433-a2f0-82b293c48bf7",
   "metadata": {},
   "outputs": [],
   "source": []
  }
 ],
 "metadata": {
  "kernelspec": {
   "display_name": "Python 3 (ipykernel)",
   "language": "python",
   "name": "python3"
  },
  "language_info": {
   "codemirror_mode": {
    "name": "ipython",
    "version": 3
   },
   "file_extension": ".py",
   "mimetype": "text/x-python",
   "name": "python",
   "nbconvert_exporter": "python",
   "pygments_lexer": "ipython3",
   "version": "3.8.13"
  }
 },
 "nbformat": 4,
 "nbformat_minor": 5
}
