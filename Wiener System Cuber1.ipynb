{
 "cells": [
  {
   "attachments": {},
   "cell_type": "markdown",
   "id": "7eb4a2f9-42b6-4faf-ab10-3e68d7fc9c91",
   "metadata": {
    "tags": []
   },
   "source": [
    "##  $$\\color{blue}{\\text{MIT 2.131 Wiener Nonlinear System ID: Cuber}} $$"
   ]
  },
  {
   "attachments": {},
   "cell_type": "markdown",
   "id": "e839f666-4433-454c-b48e-15ccf990c6cf",
   "metadata": {
    "tags": []
   },
   "source": [
    "#### <center> Ian Hunter, 18 April 2022"
   ]
  },
  {
   "attachments": {},
   "cell_type": "markdown",
   "id": "a6d4417b-755a-4bfd-9207-12aacb0831e8",
   "metadata": {
    "tags": []
   },
   "source": [
    "Version Notes:   \n",
    "- 13 Apr 2022 Started\n",
    "- 17 Apr 2022 Fixed sluggish performance problem with plotting n(.) \n",
    "- 18 Apr 2022 Changed to use interpolate for function inversion (much faster)\n",
    "- 18 Apr 2023 Updated"
   ]
  },
  {
   "attachments": {},
   "cell_type": "markdown",
   "id": "4b04b808-c2e6-43c0-9b32-ae484cb9aaad",
   "metadata": {},
   "source": [
    "#### Objectives"
   ]
  },
  {
   "attachments": {},
   "cell_type": "markdown",
   "id": "8aa0a36d-1ef6-4e90-bbcc-0604ee0c6b76",
   "metadata": {
    "tags": []
   },
   "source": [
    "The purpose of these notes is to define Wiener systems and introduce techniques which under certain circumstances enables Wiener systems to be characterized experimentally."
   ]
  },
  {
   "attachments": {},
   "cell_type": "markdown",
   "id": "fa7ee8fe-911e-4b4a-a173-6cefb6cdf514",
   "metadata": {},
   "source": [
    "#### Wiener Systems"
   ]
  },
  {
   "attachments": {},
   "cell_type": "markdown",
   "id": "16c34a47-a4a5-43fe-a82d-f41667e6aed7",
   "metadata": {},
   "source": [
    "A linear dynamic subsystem followed by a static nonlinearity (e.g., cuber, hard limiter, etc) is called a Wiener system after Norbert Wiener (see https://en.wikipedia.org/wiki/Norbert_Wiener), the MIT mathematician who developed a number of system identification techniques. Wiener systems should not be confused with Wiener kernel nonlinear system representations. "
   ]
  },
  {
   "attachments": {
    "20344064-4bf8-436f-8d18-70b9d133160a.png": {
     "image/png": "[encoded data removed]"
    }
   },
   "cell_type": "markdown",
   "id": "3a07c034-608f-4251-a6f3-6965bf285a6e",
   "metadata": {},
   "source": [
    "![image.png](attachment:20344064-4bf8-436f-8d18-70b9d133160a.png)"
   ]
  },
  {
   "attachments": {},
   "cell_type": "markdown",
   "id": "2b324067-23a3-468c-8765-2b4ac4b480ce",
   "metadata": {},
   "source": [
    "Here we see a Wiener system consisting of a linear dynamic subsystem as represented by an impulse response function, $h(\\tau)$, followed by a static nonlinear element, $n(\\centerdot)$. The input to the Wiener system is denoted by, $x(t)$, and the output from the Wiener system is denoted by, $y(t)$. An internal signal $u(t)$ is the output from the linear dynamic component, $h(\\tau)$, and is also the input to the static nonlinear element, $n(\\centerdot)$."
   ]
  },
  {
   "attachments": {},
   "cell_type": "markdown",
   "id": "3e65a0f1-a72f-4383-879d-0ef389364516",
   "metadata": {},
   "source": [
    "Sometimes Wiener systems are called LN systems because there is a linear dynamic system (L) followed by a static nonlinearity (N). An NL system consists of a nonlinear static element (N) followed by a linear dynamic element (L) and is called a Hammerstein system. Hammerstein system identification is the subject of other notes."
   ]
  },
  {
   "attachments": {
    "87da7cdc-2bb7-4c1b-ba69-5288eaa109c1.png": {
     "image/png": "[encoded data removed]"
    }
   },
   "cell_type": "markdown",
   "id": "11cb7a0f-95da-48f7-8b0d-daaa9510f199",
   "metadata": {},
   "source": [
    "![image.png](attachment:87da7cdc-2bb7-4c1b-ba69-5288eaa109c1.png)"
   ]
  },
  {
   "attachments": {},
   "cell_type": "markdown",
   "id": "c7a22bac-0726-48a8-9ed8-f088b0941ca2",
   "metadata": {
    "tags": []
   },
   "source": [
    "In these notes we will simulate a Wiener system and attempt to discover, $h(\\tau)$, and $n(\\centerdot)$ purely from the input, $x(t)$, and output, $y(t)$, data sets."
   ]
  },
  {
   "attachments": {},
   "cell_type": "markdown",
   "id": "35a6cb36-2137-4fac-ba18-54514b27f42a",
   "metadata": {
    "tags": []
   },
   "source": [
    "#### Import libraries"
   ]
  },
  {
   "attachments": {},
   "cell_type": "markdown",
   "id": "8ad5a996-ec92-40f3-8a14-cba03546a9b7",
   "metadata": {
    "tags": []
   },
   "source": [
    "We will use the Python plotting library, matplotlib, as well as the library of numeric math functions, numpy, and the library of scientific numerical algorithms, scipy."
   ]
  },
  {
   "cell_type": "code",
   "execution_count": 1,
   "id": "9b95ae86-b13e-4940-a287-fc387d5ce8db",
   "metadata": {
    "tags": []
   },
   "outputs": [],
   "source": [
    "import numpy as np # works with complex but one of the arguments must be complex\n",
    "import matplotlib.pyplot as plt\n",
    "from scipy import signal\n",
    "from scipy import interpolate\n",
    "from scipy.linalg import toeplitz, solve_toeplitz\n",
    "from numpy.polynomial.polynomial import polyfit\n",
    "import csv # this gives us tools to manipulate CSV files\n",
    "%matplotlib inline\n",
    "%config InlineBackend.figure_format = 'svg' # this is key to improving plot resolution"
   ]
  },
  {
   "attachments": {},
   "cell_type": "markdown",
   "id": "783dba0c-e749-4932-bc59-31ed93e7a08f",
   "metadata": {},
   "source": [
    "#### Create Wiener system"
   ]
  },
  {
   "attachments": {},
   "cell_type": "markdown",
   "id": "f1af1763-6eaf-458a-80c5-ddf0043ac00a",
   "metadata": {
    "tags": []
   },
   "source": [
    "Lets choose a second-order low-pass  subsystem. The general  transfer function  for such a  sub system is :"
   ]
  },
  {
   "attachments": {},
   "cell_type": "markdown",
   "id": "4a830336-d896-490b-b725-9a43aa2d56f5",
   "metadata": {},
   "source": [
    "$$ \\large H(s)=\\frac{\\alpha.{\\omega_n}^2}{s^2+2.\\zeta.\\omega_n.s+{\\omega_n}^2} $$"
   ]
  },
  {
   "attachments": {},
   "cell_type": "markdown",
   "id": "53cc89b2-f9a2-488c-ab27-6501bd368f14",
   "metadata": {},
   "source": [
    "If we inverse Laplace transform this transfer function then we get the impulse response function:"
   ]
  },
  {
   "attachments": {},
   "cell_type": "markdown",
   "id": "0be67326-5598-4b10-9fc7-28f88c829410",
   "metadata": {},
   "source": [
    "$$ \\large h(\\tau)=\\frac{e^{-\\tau.\\zeta.\\omega}.\\alpha .\\omega .sinh\\bigl(\\tau.\\sqrt{{\\zeta}^2-1}.\\omega\\bigr)}{\\sqrt{{\\zeta}^2-1}} $$"
   ]
  },
  {
   "attachments": {},
   "cell_type": "markdown",
   "id": "d3b2772c-d8ba-4aec-9fb8-e5f23046cfe5",
   "metadata": {
    "tags": []
   },
   "source": [
    "where $\\alpha $ is the static gain, $\\omega$ is the natural frequency in rad/s and $\\zeta$ is the damping parameter."
   ]
  },
  {
   "attachments": {},
   "cell_type": "markdown",
   "id": "0823e52d-73c7-42c3-98f7-2da59eec59c9",
   "metadata": {},
   "source": [
    "The Python code to implement this second-order impulse response function (IRF) is: "
   ]
  },
  {
   "cell_type": "code",
   "execution_count": null,
   "id": "80d39071-c24a-4bcb-9375-7bc6361d7ae1",
   "metadata": {
    "tags": []
   },
   "outputs": [],
   "source": [
    "def irf2(tau,a,w,z): # 2nd order impulse response function\n",
    "    # where a is the static gain\n",
    "    #       w is the natural frequency in rad/s\n",
    "    #       z is the dampling parameter\n",
    "    # note that complex is required to force np.sqrt to return a complex number\n",
    "    c=np.sqrt(complex(z**2-1.0))\n",
    "    return np.real((np.exp(-tau*z*w)*a*w*np.sinh(tau*c*w))/c)"
   ]
  },
  {
   "attachments": {},
   "cell_type": "markdown",
   "id": "52951d55-ee98-4c86-a537-8670dd621d4f",
   "metadata": {},
   "source": [
    "Lets make the static gain, $\\alpha=1$, the natural frequency, $\\omega_n=2.\\pi.10$ (radians/s) = $10 Hz$, and the damping parameter, $\\zeta=0.3$ :"
   ]
  },
  {
   "cell_type": "code",
   "execution_count": null,
   "id": "4544b4a1-54b6-49a5-aba6-5675022eacc4",
   "metadata": {
    "tags": []
   },
   "outputs": [],
   "source": [
    "a=2\n",
    "w=2*np.pi*10\n",
    "z=0.3"
   ]
  },
  {
   "attachments": {},
   "cell_type": "markdown",
   "id": "14469f5d-fc6d-40b9-9ff2-c4e33f7f3934",
   "metadata": {
    "tags": []
   },
   "source": [
    "We need a sampled version of this IRF. So lets make the sampling rate 2 kHz (i.e., sampling increment, dt, 0.5 ms) and impulse response function length of 0.5 second:"
   ]
  },
  {
   "cell_type": "code",
   "execution_count": null,
   "id": "f00a8013-d18b-4c39-8882-69f8db66d9a4",
   "metadata": {
    "tags": []
   },
   "outputs": [],
   "source": [
    "dt=0.0005 # 0.5 ms\n",
    "mi=1000\n",
    "tau=np.arange(0,dt*mi,dt)"
   ]
  },
  {
   "cell_type": "code",
   "execution_count": null,
   "id": "e6560533-c2ac-48ad-9abb-91813621a2de",
   "metadata": {
    "tags": []
   },
   "outputs": [],
   "source": [
    "h=irf2(tau,a,w,z)"
   ]
  },
  {
   "cell_type": "code",
   "execution_count": null,
   "id": "d7891ee7-976b-4de5-9073-d9b2130b1d10",
   "metadata": {
    "tags": []
   },
   "outputs": [],
   "source": [
    "plt.rcParams['figure.figsize'] = [8, 7]\n",
    "plt.plot(tau, h, 'r.',markersize=1)\n",
    "plt.title('2nd-Order IRF')\n",
    "plt.xlabel('Time (s)')\n",
    "plt.ylabel('Amplitude')\n",
    "plt.grid()\n",
    "plt.show()"
   ]
  },
  {
   "attachments": {},
   "cell_type": "markdown",
   "id": "02abbc49-b1f6-4fca-9361-7aa58acd7682",
   "metadata": {
    "tags": []
   },
   "source": [
    "It is always a good idea to plot the individual points in the impulse response function to check that the sampling rate is high enough given the time course of the function. It is best to have plenty of points (e.g., > 10) covering the initial rise of the impulse response function. It is also best to have a domain whose duration (last value) is 1.5 x to 2 x the time it takes for the impulse response to \"die out\". If these conditions are not met then resample the original continuous (symbolic) impulse response function with a more appropriate sampling interval, dt."
   ]
  },
  {
   "attachments": {},
   "cell_type": "markdown",
   "id": "5a4cbb2e-99d2-4596-88de-3b95f2414f5b",
   "metadata": {
    "tags": []
   },
   "source": [
    "We can check (via trapezoidal integration) to see if the area under this sampled IRF equals the static gain, $\\alpha$:"
   ]
  },
  {
   "cell_type": "code",
   "execution_count": null,
   "id": "fbe071ce-19e1-44f2-b82e-81904c615ddf",
   "metadata": {
    "tags": []
   },
   "outputs": [],
   "source": [
    "np.trapz(h,tau)"
   ]
  },
  {
   "attachments": {},
   "cell_type": "markdown",
   "id": "bf793316-690f-494e-847d-728debdc077b",
   "metadata": {},
   "source": [
    "This is close enough."
   ]
  },
  {
   "attachments": {},
   "cell_type": "markdown",
   "id": "c857d275-9474-4cdd-8be3-8ef077dbed63",
   "metadata": {
    "tags": []
   },
   "source": [
    "#### Cuber static nonlinearity, $n(\\centerdot)$"
   ]
  },
  {
   "attachments": {},
   "cell_type": "markdown",
   "id": "fb3f7773-3690-4134-93e0-83c751527be6",
   "metadata": {},
   "source": [
    "In these notes we will make the Wiener system static nonlinearity a cuber with an offset of c0=2 and a cube term with a scaling factor of c3=5:"
   ]
  },
  {
   "cell_type": "code",
   "execution_count": null,
   "id": "c4bbaf34-cca5-4f51-b06c-d5f67e4e400e",
   "metadata": {
    "tags": []
   },
   "outputs": [],
   "source": [
    "def n(u,c):  # c[0] + c[1]*u + c[2]*u**2 + c[3]*u**3 + ....+ c[i]*u**i\n",
    "    i=0\n",
    "    sum=0\n",
    "    while i<len(c):\n",
    "        sum=sum+c[i]*u**i\n",
    "        i=i+1\n",
    "    return sum"
   ]
  },
  {
   "cell_type": "code",
   "execution_count": null,
   "id": "91516a0c-0db1-4a99-ab04-458e7702fd71",
   "metadata": {
    "tags": []
   },
   "outputs": [],
   "source": [
    "plt.rcParams['figure.figsize'] = [8, 7]\n",
    "u1=np.arange(-2,2,0.01)\n",
    "plt.plot(u1,n(u1,[2,0,0,5]), 'r,',markersize=1)\n",
    "plt.title('Cuber Static Nonlinearity, n(.)')\n",
    "plt.xlabel('Amplitude')\n",
    "plt.ylabel('Amplitude')\n",
    "plt.grid()\n",
    "plt.show()"
   ]
  },
  {
   "attachments": {},
   "cell_type": "markdown",
   "id": "f8cefee7-9883-443f-bea3-ea691990ebd5",
   "metadata": {},
   "source": [
    "#### Generate Gaussian white noise signal, x(t)"
   ]
  },
  {
   "attachments": {},
   "cell_type": "markdown",
   "id": "8d4d0dab-802f-4923-8b49-3b2d408ad0c1",
   "metadata": {},
   "source": [
    "We start by generating 50 seconds of a Gaussian white noise input, x(t), with a mean of 0 and a standard deviation of 1. Note that we could have used pretty much any stochastic input here except a stochastic binary input (which is not sufficient to identify a nonlinear system). "
   ]
  },
  {
   "cell_type": "code",
   "execution_count": null,
   "id": "90f2b9eb-6489-4843-b196-e130dd2ec0d9",
   "metadata": {
    "tags": []
   },
   "outputs": [],
   "source": [
    "ni=100000 # number of input samples\n",
    "t=np.arange(0,ni*dt,dt)\n",
    "[ni,ni*dt]"
   ]
  },
  {
   "cell_type": "code",
   "execution_count": null,
   "id": "36c77051-d3b1-4398-9f1a-13d254a912b1",
   "metadata": {
    "tags": []
   },
   "outputs": [],
   "source": [
    "x=np.random.randn(ni) # Gaussian numbers"
   ]
  },
  {
   "cell_type": "code",
   "execution_count": null,
   "id": "d2ab5192-f12b-4c19-ac00-0a757ccd76d4",
   "metadata": {
    "tags": []
   },
   "outputs": [],
   "source": [
    "plt.rcParams['figure.figsize'] = [8, 5]\n",
    "plt.plot(t, x, 'r',linewidth=0.4)\n",
    "plt.xlabel('Time (s)')\n",
    "plt.ylabel('Amplitude')\n",
    "plt.title('Input Signal, x(t)')\n",
    "plt.grid()\n",
    "plt.show()"
   ]
  },
  {
   "attachments": {},
   "cell_type": "markdown",
   "id": "de741174-2abc-424e-a109-b60b4a306fba",
   "metadata": {},
   "source": [
    "#### Convolve, $h(\\tau)$, with $x(t)$ to produce, $u(t)$"
   ]
  },
  {
   "attachments": {},
   "cell_type": "markdown",
   "id": "5a05a03e-0792-49e8-85d7-e0d29ce6f93f",
   "metadata": {},
   "source": [
    "We now numerically convolve our input, $x(t)$, with the impulse response function, $h(\\tau)$, to generate the internal signal, $u(t)$:"
   ]
  },
  {
   "cell_type": "code",
   "execution_count": 2,
   "id": "a3ebfdf0-6b3f-4d05-b963-226098eb171b",
   "metadata": {
    "tags": []
   },
   "outputs": [
    {
     "ename": "FileNotFoundError",
     "evalue": "h.csv not found.",
     "output_type": "error",
     "traceback": [
      "\u001b[1;31m---------------------------------------------------------------------------\u001b[0m",
      "\u001b[1;31mFileNotFoundError\u001b[0m                         Traceback (most recent call last)",
      "Cell \u001b[1;32mIn[2], line 4\u001b[0m\n\u001b[0;32m      2\u001b[0m \u001b[39mfrom\u001b[39;00m \u001b[39mnumpy\u001b[39;00m \u001b[39mimport\u001b[39;00m loadtxt\n\u001b[0;32m      3\u001b[0m dt \u001b[39m=\u001b[39m \u001b[39m0.012\u001b[39m\n\u001b[1;32m----> 4\u001b[0m h \u001b[39m=\u001b[39m loadtxt(\u001b[39m'\u001b[39;49m\u001b[39mh.csv\u001b[39;49m\u001b[39m'\u001b[39;49m, delimiter\u001b[39m=\u001b[39;49m\u001b[39m'\u001b[39;49m\u001b[39m,\u001b[39;49m\u001b[39m'\u001b[39;49m,usecols \u001b[39m=\u001b[39;49m (\u001b[39m0\u001b[39;49m))\n\u001b[0;32m      5\u001b[0m xtemp \u001b[39m=\u001b[39m loadtxt(\u001b[39m'\u001b[39m\u001b[39m2.131 DMA Data/Gaussian/Dgauss-1730.csv\u001b[39m\u001b[39m'\u001b[39m, delimiter\u001b[39m=\u001b[39m\u001b[39m'\u001b[39m\u001b[39m,\u001b[39m\u001b[39m'\u001b[39m,usecols \u001b[39m=\u001b[39m (\u001b[39m1\u001b[39m))\n\u001b[0;32m      6\u001b[0m ytemp \u001b[39m=\u001b[39m loadtxt(\u001b[39m'\u001b[39m\u001b[39m2.131 DMA Data/Gaussian/Fgauss-1730.csv\u001b[39m\u001b[39m'\u001b[39m, delimiter\u001b[39m=\u001b[39m\u001b[39m'\u001b[39m\u001b[39m,\u001b[39m\u001b[39m'\u001b[39m,usecols \u001b[39m=\u001b[39m (\u001b[39m1\u001b[39m))\n",
      "File \u001b[1;32mc:\\Users\\hhigginb\\anaconda3\\lib\\site-packages\\numpy\\lib\\npyio.py:1338\u001b[0m, in \u001b[0;36mloadtxt\u001b[1;34m(fname, dtype, comments, delimiter, converters, skiprows, usecols, unpack, ndmin, encoding, max_rows, quotechar, like)\u001b[0m\n\u001b[0;32m   1335\u001b[0m \u001b[39mif\u001b[39;00m \u001b[39misinstance\u001b[39m(delimiter, \u001b[39mbytes\u001b[39m):\n\u001b[0;32m   1336\u001b[0m     delimiter \u001b[39m=\u001b[39m delimiter\u001b[39m.\u001b[39mdecode(\u001b[39m'\u001b[39m\u001b[39mlatin1\u001b[39m\u001b[39m'\u001b[39m)\n\u001b[1;32m-> 1338\u001b[0m arr \u001b[39m=\u001b[39m _read(fname, dtype\u001b[39m=\u001b[39;49mdtype, comment\u001b[39m=\u001b[39;49mcomment, delimiter\u001b[39m=\u001b[39;49mdelimiter,\n\u001b[0;32m   1339\u001b[0m             converters\u001b[39m=\u001b[39;49mconverters, skiplines\u001b[39m=\u001b[39;49mskiprows, usecols\u001b[39m=\u001b[39;49musecols,\n\u001b[0;32m   1340\u001b[0m             unpack\u001b[39m=\u001b[39;49munpack, ndmin\u001b[39m=\u001b[39;49mndmin, encoding\u001b[39m=\u001b[39;49mencoding,\n\u001b[0;32m   1341\u001b[0m             max_rows\u001b[39m=\u001b[39;49mmax_rows, quote\u001b[39m=\u001b[39;49mquotechar)\n\u001b[0;32m   1343\u001b[0m \u001b[39mreturn\u001b[39;00m arr\n",
      "File \u001b[1;32mc:\\Users\\hhigginb\\anaconda3\\lib\\site-packages\\numpy\\lib\\npyio.py:975\u001b[0m, in \u001b[0;36m_read\u001b[1;34m(fname, delimiter, comment, quote, imaginary_unit, usecols, skiplines, max_rows, converters, ndmin, unpack, dtype, encoding)\u001b[0m\n\u001b[0;32m    973\u001b[0m     fname \u001b[39m=\u001b[39m os\u001b[39m.\u001b[39mfspath(fname)\n\u001b[0;32m    974\u001b[0m \u001b[39mif\u001b[39;00m \u001b[39misinstance\u001b[39m(fname, \u001b[39mstr\u001b[39m):\n\u001b[1;32m--> 975\u001b[0m     fh \u001b[39m=\u001b[39m np\u001b[39m.\u001b[39;49mlib\u001b[39m.\u001b[39;49m_datasource\u001b[39m.\u001b[39;49mopen(fname, \u001b[39m'\u001b[39;49m\u001b[39mrt\u001b[39;49m\u001b[39m'\u001b[39;49m, encoding\u001b[39m=\u001b[39;49mencoding)\n\u001b[0;32m    976\u001b[0m     \u001b[39mif\u001b[39;00m encoding \u001b[39mis\u001b[39;00m \u001b[39mNone\u001b[39;00m:\n\u001b[0;32m    977\u001b[0m         encoding \u001b[39m=\u001b[39m \u001b[39mgetattr\u001b[39m(fh, \u001b[39m'\u001b[39m\u001b[39mencoding\u001b[39m\u001b[39m'\u001b[39m, \u001b[39m'\u001b[39m\u001b[39mlatin1\u001b[39m\u001b[39m'\u001b[39m)\n",
      "File \u001b[1;32mc:\\Users\\hhigginb\\anaconda3\\lib\\site-packages\\numpy\\lib\\_datasource.py:193\u001b[0m, in \u001b[0;36mopen\u001b[1;34m(path, mode, destpath, encoding, newline)\u001b[0m\n\u001b[0;32m    156\u001b[0m \u001b[39m\"\"\"\u001b[39;00m\n\u001b[0;32m    157\u001b[0m \u001b[39mOpen `path` with `mode` and return the file object.\u001b[39;00m\n\u001b[0;32m    158\u001b[0m \n\u001b[1;32m   (...)\u001b[0m\n\u001b[0;32m    189\u001b[0m \n\u001b[0;32m    190\u001b[0m \u001b[39m\"\"\"\u001b[39;00m\n\u001b[0;32m    192\u001b[0m ds \u001b[39m=\u001b[39m DataSource(destpath)\n\u001b[1;32m--> 193\u001b[0m \u001b[39mreturn\u001b[39;00m ds\u001b[39m.\u001b[39;49mopen(path, mode, encoding\u001b[39m=\u001b[39;49mencoding, newline\u001b[39m=\u001b[39;49mnewline)\n",
      "File \u001b[1;32mc:\\Users\\hhigginb\\anaconda3\\lib\\site-packages\\numpy\\lib\\_datasource.py:533\u001b[0m, in \u001b[0;36mDataSource.open\u001b[1;34m(self, path, mode, encoding, newline)\u001b[0m\n\u001b[0;32m    530\u001b[0m     \u001b[39mreturn\u001b[39;00m _file_openers[ext](found, mode\u001b[39m=\u001b[39mmode,\n\u001b[0;32m    531\u001b[0m                               encoding\u001b[39m=\u001b[39mencoding, newline\u001b[39m=\u001b[39mnewline)\n\u001b[0;32m    532\u001b[0m \u001b[39melse\u001b[39;00m:\n\u001b[1;32m--> 533\u001b[0m     \u001b[39mraise\u001b[39;00m \u001b[39mFileNotFoundError\u001b[39;00m(\u001b[39mf\u001b[39m\u001b[39m\"\u001b[39m\u001b[39m{\u001b[39;00mpath\u001b[39m}\u001b[39;00m\u001b[39m not found.\u001b[39m\u001b[39m\"\u001b[39m)\n",
      "\u001b[1;31mFileNotFoundError\u001b[0m: h.csv not found."
     ]
    }
   ],
   "source": [
    "# edit 5/15\n",
    "from numpy import loadtxt\n",
    "dt = 0.012\n",
    "h = loadtxt('h.csv', delimiter=',',usecols = (0))\n",
    "xtemp = loadtxt('2.131 DMA Data/Gaussian/Dgauss-1730.csv', delimiter=',',usecols = (1))\n",
    "ytemp = loadtxt('2.131 DMA Data/Gaussian/Fgauss-1730.csv', delimiter=',',usecols = (1))\n",
    "ni = x.size\n",
    "mi = x.size\n",
    "#if ytemp.size > xtemp.size:\n",
    "#    y = ytemp[:(xtemp.size)]\n",
    "#    x = xtemp\n",
    "#    u = utemp\n",
    "#else:\n",
    "#    x = xtemp[:(ytemp.size)]\n",
    "#    u = utemp[:(ytemp.size)]\n",
    "#    y = ytemp\n",
    "x = xtemp[1016:100500]\n",
    "y = ytemp[1016:100500]\n",
    "#\n",
    "\n",
    "u=dt*np.convolve(x,h)[0:ni] # need just the first ni values"
   ]
  },
  {
   "cell_type": "code",
   "execution_count": null,
   "id": "5ded95ed-9a13-4e74-aaa5-d673e07dbee2",
   "metadata": {
    "tags": []
   },
   "outputs": [],
   "source": [
    "plt.rcParams['figure.figsize'] = [8, 5]\n",
    "plt.plot(t, u, 'g',linewidth=0.4)\n",
    "plt.xlabel('Time (s)')\n",
    "plt.ylabel('Amplitude')\n",
    "plt.title('Intermediate Signal, u(t)')\n",
    "plt.grid()\n",
    "plt.show()\n"
   ]
  },
  {
   "attachments": {},
   "cell_type": "markdown",
   "id": "8618163b-5715-42db-8faf-af1fd7df4616",
   "metadata": {
    "tags": []
   },
   "source": [
    "#### Generate output, $y(t)$"
   ]
  },
  {
   "attachments": {},
   "cell_type": "markdown",
   "id": "c105ff4c-4a3f-46f9-b6e6-39937b716ead",
   "metadata": {
    "tags": []
   },
   "source": [
    "We now pass $u(t)$ through our static nonlinearity, $n(\\centerdot)$, to produce an output to which we add 5% measurement noise, $e(t)$, to produce $y(t)$:"
   ]
  },
  {
   "cell_type": "code",
   "execution_count": null,
   "id": "1fde87a8-60dc-4adf-9730-82b84241ba4b",
   "metadata": {
    "tags": []
   },
   "outputs": [],
   "source": [
    "yvar=np.var(n(u,[2,0,0,5]))\n",
    "evar=np.var(np.random.randn(ni))\n",
    "y=n(u,[2,0,0,5])+(0.1*yvar/evar)*np.random.randn(ni) # add 10% Gaussian white measurement noise"
   ]
  },
  {
   "cell_type": "code",
   "execution_count": null,
   "id": "734f394c-4323-4e95-bb81-1b3baee1388a",
   "metadata": {
    "tags": []
   },
   "outputs": [],
   "source": [
    "plt.rcParams['figure.figsize'] = [8, 5]\n",
    "plt.plot(t, y, 'b',linewidth=0.4)\n",
    "plt.xlabel('Time (s)')\n",
    "plt.ylabel('Amplitude')\n",
    "plt.title('Output Signal, y(t)')\n",
    "plt.grid()\n",
    "plt.show()"
   ]
  },
  {
   "attachments": {},
   "cell_type": "markdown",
   "id": "543df5ae-7224-4620-a4b2-d33ebca435b5",
   "metadata": {},
   "source": [
    "Notice that the output has a non-zero mean."
   ]
  },
  {
   "attachments": {},
   "cell_type": "markdown",
   "id": "2877fa23-0f4e-42a5-97c1-567a3503e33b",
   "metadata": {},
   "source": [
    "#### Compare input and output probability density functions "
   ]
  },
  {
   "attachments": {},
   "cell_type": "markdown",
   "id": "c7c2262c-d38f-4e02-9522-a0709e214cc2",
   "metadata": {},
   "source": [
    "We now calculate the input and output probability density functions:"
   ]
  },
  {
   "cell_type": "code",
   "execution_count": null,
   "id": "2c644708-7ba1-4a02-bcfa-3c7111f39848",
   "metadata": {
    "tags": []
   },
   "outputs": [],
   "source": [
    "fig, (ax1, ax2) = plt.subplots(nrows=2, ncols=1, sharex=True) \n",
    "plt.rcParams['figure.figsize'] = [8, 8]\n",
    "xmean=np.mean(x)\n",
    "xsd=np.std(x)\n",
    "ampl=np.arange(-10,10,0.01)\n",
    "xpdf=np.exp(-0.5*((ampl-xmean)/xsd)**2)/(xsd*np.sqrt(2*np.pi))\n",
    "ax1.plot(ampl,xpdf, 'r',linewidth=1)\n",
    "ax1.hist(x, density=True, bins=100, color='b') \n",
    "ax1.set(xlabel='Amplitude (V)', ylabel='Probability Density', title='Input (x) Probability Density')\n",
    "#ax1.grid()\n",
    "ymean=np.mean(y)\n",
    "ysd=np.std(y)\n",
    "ampl=np.arange(-10,10,0.01)\n",
    "ypdf=np.exp(-0.5*((ampl-ymean)/ysd)**2)/(ysd*np.sqrt(2*np.pi))\n",
    "ax2.plot(ampl,ypdf, 'r',linewidth=1)\n",
    "ax2.hist(y, density=True, bins=400, color='b')\n",
    "ax2.set(xlabel='Amplitude (V)', ylabel='Probability Density', title='Output (y) Probability Density')\n",
    "#ax2.grid()\n",
    "plt.tight_layout()\n",
    "plt.xlim([-5,5])\n",
    "plt.show()\n",
    "plt.clf()\n",
    "plt.close()"
   ]
  },
  {
   "attachments": {},
   "cell_type": "markdown",
   "id": "810df753-d3fd-46e1-8e48-d6bbc600d438",
   "metadata": {},
   "source": [
    "The output, $y(t)$, is clearly non-Gaussian."
   ]
  },
  {
   "attachments": {},
   "cell_type": "markdown",
   "id": "8c7750eb-1f9b-485d-97d3-e034d67ac799",
   "metadata": {},
   "source": [
    "A linear system perturbed by a Gaussian stochastic input (does not need to be white) will produce a Gaussian stochastic output. If the output from a system driven by a Gaussian stochastic input is non Gaussian (as here) then this is clear evidence that the system is nonlinear."
   ]
  },
  {
   "attachments": {},
   "cell_type": "markdown",
   "id": "b2d5cb31-4d9d-4e4d-829b-4df9e225673c",
   "metadata": {},
   "source": [
    "#### Wiener System Identification"
   ]
  },
  {
   "attachments": {},
   "cell_type": "markdown",
   "id": "7b10e534-9d8c-46ca-a925-a879406e42d2",
   "metadata": {},
   "source": [
    "We now ask if it is possible to determine the two internal subsystems, namely, $h(\\tau)$ and $n(\\centerdot)$ solely from the input, $x(t)$, and output, $y(t)$, signals.\n",
    "Lets see what happens when we compute the nonparametric impulse response function, $h1(\\tau)$, between the input, $x(t)$, and the output, $y(t)$. "
   ]
  },
  {
   "attachments": {},
   "cell_type": "markdown",
   "id": "abd8ee22-81ae-4c90-922a-e0f0fc7fac2e",
   "metadata": {},
   "source": [
    "As detailed in previous notes we can determine the system impulse response function from estimates of the input auto-correlation and input output cross-correlation functions via Toeplitz matrix inversion:"
   ]
  },
  {
   "cell_type": "code",
   "execution_count": null,
   "id": "59a195f2-35af-4081-973c-5b62d6ce2c3b",
   "metadata": {
    "tags": []
   },
   "outputs": [],
   "source": [
    "cxx=dt*signal.correlate(x-np.mean(x),x-np.mean(x),mode='same',method='auto')[round(ni/2):round(ni/2)+mi] # x auto-correlation\n",
    "cyx=dt*signal.correlate(y-np.mean(y),x-np.mean(x),mode='same',method='auto')[round(ni/2):round(ni/2)+mi] # xy cross-correlation\n",
    "toe=toeplitz(cxx)\n",
    "h1=solve_toeplitz(cxx,cyx)/dt"
   ]
  },
  {
   "attachments": {},
   "cell_type": "markdown",
   "id": "4751db9f-afd7-4ce3-a940-f3748014e7d3",
   "metadata": {},
   "source": [
    "Note that we removed the mean from both x and y in calculating cxx and cyx."
   ]
  },
  {
   "cell_type": "code",
   "execution_count": null,
   "id": "f931bdad-ec1a-4c7e-85da-eda44c8e1162",
   "metadata": {
    "tags": []
   },
   "outputs": [],
   "source": [
    "plt.rcParams['figure.figsize'] = [8, 7]\n",
    "plt.plot(tau, h, 'r.',markersize=1)\n",
    "plt.plot(tau, h1, 'b.',markersize=1)\n",
    "plt.title('h and h1')\n",
    "plt.xlabel('Time (s)')\n",
    "plt.ylabel('Amplitude')\n",
    "plt.grid()\n",
    "plt.show()"
   ]
  },
  {
   "attachments": {},
   "cell_type": "markdown",
   "id": "272472bf-8024-4b06-bd9b-b5300fcce00d",
   "metadata": {},
   "source": [
    "If we multiply $h(\\tau)$ by $\\beta$ and divide  $n(\\centerdot)$ by $\\beta$ there will be no change in the output, $y(t)$. In other words there is a scaling constant, $\\beta$ , that can freely move from $h(\\tau)$ to $n(\\centerdot)$. So lets scale $h(\\tau)$ and $h1(\\tau)$ so that the area under them is 1 and replot:"
   ]
  },
  {
   "cell_type": "code",
   "execution_count": null,
   "id": "b27f2205-3fe9-48c5-bc37-5d14e39f4c11",
   "metadata": {
    "tags": []
   },
   "outputs": [],
   "source": [
    "np.trapz(h,tau)"
   ]
  },
  {
   "cell_type": "code",
   "execution_count": null,
   "id": "90b5aebc-4019-4ddc-9963-84a7179081c7",
   "metadata": {
    "tags": []
   },
   "outputs": [],
   "source": [
    "plt.rcParams['figure.figsize'] = [8, 7]\n",
    "plt.plot(tau, h/np.trapz(h,tau), 'r.',markersize=1)\n",
    "plt.plot(tau, h1/np.trapz(h1,tau), 'b.',markersize=1)\n",
    "plt.title('h and h1')\n",
    "plt.xlabel('Time (s)')\n",
    "plt.ylabel('Amplitude')\n",
    "plt.grid()\n",
    "plt.show()"
   ]
  },
  {
   "attachments": {},
   "cell_type": "markdown",
   "id": "4bfb1431-8703-48f9-b258-0d9e175366fc",
   "metadata": {},
   "source": [
    "This is a remarkable result!! It shows that despite the presence of a major static nonlinearity such as a cuber, the stochastic system identification techniques were able to nevertheless get an estimate of the Wiener system's dynamic linear element. This amazing result (for the case of cross-correlation) seems to have been first discovered by Julian Bussgang (https://en.wikipedia.org/wiki/Julian_J._Bussgang) in 1951 during his Master's thesis research when he was a student at the Research Lab for Electronics (RLE) at MIT (https://en.wikipedia.org/wiki/Bussgang_theorem)."
   ]
  },
  {
   "attachments": {},
   "cell_type": "markdown",
   "id": "ddbe914b-3230-4429-b79a-6d2c456ada79",
   "metadata": {},
   "source": [
    "#### Predict $u(t)$"
   ]
  },
  {
   "attachments": {},
   "cell_type": "markdown",
   "id": "2363756d-dc65-4d5d-b0ba-1441435e0c42",
   "metadata": {},
   "source": [
    "Now that we have $h1(\\tau)$, we can convolve it with the input, $x(t)$, to produce a prediction of the output but as we will shortly be assuming that the system is possibly a Wiener system this prediction can also be thought of as a prediction, $u1a(t)$, of the internal signal, $u(t)$:"
   ]
  },
  {
   "cell_type": "code",
   "execution_count": null,
   "id": "213256ef-23cd-4801-85b5-77b14f2258fa",
   "metadata": {
    "tags": []
   },
   "outputs": [],
   "source": [
    "u1b=dt*np.convolve(x,h1)[0:ni] # need just the first ni values"
   ]
  },
  {
   "cell_type": "code",
   "execution_count": null,
   "id": "034cb1be-c86e-4668-8fd9-3153f1e7c705",
   "metadata": {
    "tags": []
   },
   "outputs": [],
   "source": [
    "plt.rcParams['figure.figsize'] = [8, 5]\n",
    "plt.plot(t, y, 'b',linewidth=0.4)\n",
    "plt.plot(t, u1b, 'g',linewidth=0.4)\n",
    "plt.xlabel('Time (s)')\n",
    "plt.ylabel('Amplitude')\n",
    "plt.title('Output Signal, y(t) (blue), and Prediction , u1b(t) (green)')\n",
    "plt.grid()\n",
    "plt.show()"
   ]
  },
  {
   "attachments": {},
   "cell_type": "markdown",
   "id": "13d00791-e74b-49d7-912c-0de54ff9fbfc",
   "metadata": {},
   "source": [
    "The prediction is not at all that good. Lets calculate the residuals, r1(t) and %VAF:"
   ]
  },
  {
   "cell_type": "code",
   "execution_count": null,
   "id": "6a0eb9a8-8036-4b56-9954-c6ae47858883",
   "metadata": {
    "tags": []
   },
   "outputs": [],
   "source": [
    "r0=y-u1b"
   ]
  },
  {
   "cell_type": "code",
   "execution_count": null,
   "id": "9c608e37-79b6-409c-9250-eac65612f30b",
   "metadata": {
    "tags": []
   },
   "outputs": [],
   "source": [
    "plt.rcParams['figure.figsize'] = [8, 5]\n",
    "plt.plot(t, y, 'b',linewidth=0.4)\n",
    "plt.plot(t, r0, 'r',linewidth=0.4)\n",
    "plt.xlabel('Time (s)')\n",
    "plt.ylabel('Amplitude')\n",
    "plt.title('Output Signal, y(t) (blue), and Prediction Residuals, r0(t) (red)')\n",
    "plt.grid()\n",
    "plt.show()"
   ]
  },
  {
   "cell_type": "code",
   "execution_count": null,
   "id": "3b43eb71-d7f8-443c-9eab-2818e67065a5",
   "metadata": {
    "tags": []
   },
   "outputs": [],
   "source": [
    "VAF0=100.0*(1-np.var(r0)/np.var(y))\n",
    "VAF0"
   ]
  },
  {
   "attachments": {},
   "cell_type": "markdown",
   "id": "80f95342-2839-429a-8797-1f35db4e4886",
   "metadata": {},
   "source": [
    "This is a low variance accounted for (VAF) and unless we think that around 40% of the output is noise, we should continue our analysis and consider a nonlinear model. "
   ]
  },
  {
   "attachments": {},
   "cell_type": "markdown",
   "id": "af988bcb-886b-4d54-aa9b-7f088ca588a1",
   "metadata": {},
   "source": [
    "If our system was dynamically linear then if we were to plot our prediction of $y(t)$   ($u1(t)$ in this case) against the actual output $y(t)$ then we should get a straight line with scatter about this in proportion to the noise. "
   ]
  },
  {
   "attachments": {},
   "cell_type": "markdown",
   "id": "36657a75-ed7c-4720-a390-21f5c0813b7c",
   "metadata": {},
   "source": [
    "#### Predict  \\$n1(\\centerdot)$"
   ]
  },
  {
   "attachments": {},
   "cell_type": "markdown",
   "id": "8126ce4b-f32d-466e-9f5a-3abe780cc20b",
   "metadata": {},
   "source": [
    "So lets cross-plot $u1b(t)$ vs $y(t)$:"
   ]
  },
  {
   "cell_type": "code",
   "execution_count": null,
   "id": "a84e64e4-7ca4-4ecc-a128-cab58f80a2fd",
   "metadata": {
    "tags": []
   },
   "outputs": [],
   "source": [
    "plt.rcParams['figure.figsize'] = [8, 5]\n",
    "plt.plot(u1b[::5], y[::5], 'k,') \n",
    "plt.xlabel('u1b(t)')\n",
    "plt.title('test')\n",
    "plt.ylabel('y(t)')\n",
    "plt.title('u1b(t) vs y(t)')\n",
    "plt.grid()\n",
    "plt.show()"
   ]
  },
  {
   "attachments": {},
   "cell_type": "markdown",
   "id": "a3d2d9a1-a84c-4be3-b815-f0fadd03996f",
   "metadata": {},
   "source": [
    "This is clearly not a straight line and immediately suggests that at the very least we have Wiener system (i.e., LN system). "
   ]
  },
  {
   "attachments": {},
   "cell_type": "markdown",
   "id": "bde13141-a98b-4dde-a705-70bada572f23",
   "metadata": {},
   "source": [
    "We can find an approximation to the estimate, $n1(\\centerdot)$, of $n(\\centerdot)$ above by fitting a high-order polynomial to the $u1(t)$ vs $y(t)$ cross-plot. We are using the polynomial here as a type of nonparametric function approximation but because we need to subsequently invert this function we will fit a polynomial that only has odd powers (the fitted function needs to be either strictly monotonically increasing or decreasing in order to have a unique inverse). Note that using odd powers does not ensure a monotonic fit but increases our odds (Note: we really need to replace the use of these polynomials with another approach which ensures monotonicity):"
   ]
  },
  {
   "attachments": {},
   "cell_type": "markdown",
   "id": "48b401a3-0bc4-4966-ae58-95b82cffa370",
   "metadata": {},
   "source": [
    "We will use the polyfit() function in numpy below. There is also a similar function in scipy also called polyfit. Note that there is a difference in the order of coefficients returned from the two methods:"
   ]
  },
  {
   "attachments": {},
   "cell_type": "markdown",
   "id": "47030b8f-082e-4280-974a-9b48ca04c344",
   "metadata": {},
   "source": [
    "scipy polyfit returns the coefficients in descending order of degree, whereas "
   ]
  },
  {
   "attachments": {},
   "cell_type": "markdown",
   "id": "afa5d71f-8b06-4de5-9de3-0f37920576a4",
   "metadata": {},
   "source": [
    "numpy polyfit returns the coefficients, called c here, in ascending order of degree."
   ]
  },
  {
   "attachments": {},
   "cell_type": "markdown",
   "id": "e8fc6f2e-512f-476b-aa15-71b9fd1f454a",
   "metadata": {},
   "source": [
    "Note that numpy polyfit allows for specification of the particular co-efficients to be fitted (odd ones here):"
   ]
  },
  {
   "cell_type": "code",
   "execution_count": null,
   "id": "5a064121-5c7e-4387-82d1-365b92cc1ede",
   "metadata": {
    "tags": []
   },
   "outputs": [],
   "source": [
    "c1=np.polynomial.polynomial.polyfit(u1b,y,deg=[0,1,3,5,7,9],full=False)"
   ]
  },
  {
   "attachments": {},
   "cell_type": "markdown",
   "id": "0588b525-4a03-47a3-bd6c-56d62f48c2da",
   "metadata": {},
   "source": [
    "Lets plot this estimate,  $n1(\\centerdot)$, of the nonlinearity (red) together with the cross-plot of $u1b(t)$ vs $y(t)$ (black):"
   ]
  },
  {
   "cell_type": "code",
   "execution_count": null,
   "id": "205411d2-4514-4ab7-8f40-078f1a6ddff1",
   "metadata": {
    "tags": []
   },
   "outputs": [],
   "source": [
    "uu=np.arange(np.min(u1b),np.max(u1b),0.01)\n",
    "plt.rcParams['figure.figsize'] = [8, 5]\n",
    "plt.plot(u1b[::5], y[::5], 'k,')\n",
    "plt.plot(uu, n(uu,c1), 'r',markersize=1)\n",
    "plt.xlabel('u1b(t)')\n",
    "plt.ylabel('y(t)')\n",
    "plt.title('n1(.) (red) and y(t) vs u1b(t) (black)')\n",
    "plt.grid()\n",
    "plt.show()"
   ]
  },
  {
   "attachments": {},
   "cell_type": "markdown",
   "id": "dde481b4-21e5-4286-90e8-054027902c79",
   "metadata": {},
   "source": [
    "So as we can see our estimate of the Wiener system static nonlinearity,  $n1(\\centerdot)$,  is close to the actual static nonlinear element,  $n(\\centerdot)$."
   ]
  },
  {
   "attachments": {},
   "cell_type": "markdown",
   "id": "ef9107f0-6bd5-4802-be7a-4c9e79bf4e95",
   "metadata": {
    "tags": []
   },
   "source": [
    "#### Predict Output, $y1(t)$"
   ]
  },
  {
   "attachments": {},
   "cell_type": "markdown",
   "id": "a4cd371d-333d-41e1-9843-0a9ef2d5f420",
   "metadata": {},
   "source": [
    "Now that we have the estimate,  $n1(\\centerdot)$, we can predict the output, $y1(t)$, from our $u1(t)$ estimate:"
   ]
  },
  {
   "cell_type": "code",
   "execution_count": null,
   "id": "cbf64148-e322-4868-baa3-9620f29ff727",
   "metadata": {
    "tags": []
   },
   "outputs": [],
   "source": [
    "y1=n(u1b,c1)"
   ]
  },
  {
   "cell_type": "code",
   "execution_count": null,
   "id": "2573197b-8c8d-4341-9fc1-16f9a90503ae",
   "metadata": {
    "tags": []
   },
   "outputs": [],
   "source": [
    "plt.rcParams['figure.figsize'] = [8, 5]\n",
    "plt.plot(t, y, 'b',linewidth=0.4)\n",
    "plt.plot(t, y1, 'r',linewidth=0.4)\n",
    "plt.xlabel('Time (s)')\n",
    "plt.ylabel('Amplitude')\n",
    "plt.title('Output Signal, y(t) (blue), and Predicted Output, y1(t) (red)')\n",
    "plt.grid()\n",
    "plt.show()"
   ]
  },
  {
   "attachments": {},
   "cell_type": "markdown",
   "id": "e93dd5c0-3d36-47ae-984e-4b3d197a49f2",
   "metadata": {
    "tags": []
   },
   "source": [
    "Lets calculate the residuals, $r1(t)$:"
   ]
  },
  {
   "cell_type": "code",
   "execution_count": null,
   "id": "071c82b7-3e31-4211-a160-ad63682c99f8",
   "metadata": {
    "tags": []
   },
   "outputs": [],
   "source": [
    "r1 = y - y1;"
   ]
  },
  {
   "cell_type": "code",
   "execution_count": null,
   "id": "51d1e7b1-8a47-4557-bd86-ef3df7f2da9d",
   "metadata": {
    "tags": []
   },
   "outputs": [],
   "source": [
    "plt.rcParams['figure.figsize'] = [8, 5]\n",
    "plt.plot(t, y, 'b',linewidth=0.4)\n",
    "plt.plot(t, r1, 'r',linewidth=0.4)\n",
    "plt.xlabel('Time (s)')\n",
    "plt.ylabel('Amplitude')\n",
    "plt.title('Wiener System Output Signal, y(t) (blue), and Prediction Residuals, r1(t) (red)')\n",
    "plt.grid()\n",
    "plt.show()"
   ]
  },
  {
   "cell_type": "code",
   "execution_count": null,
   "id": "1e14a556-cd9a-4d5f-9389-96defccec984",
   "metadata": {
    "tags": []
   },
   "outputs": [],
   "source": [
    "VAF1=100.0*(1-np.var(r1)/np.var(y))\n",
    "VAF1"
   ]
  },
  {
   "attachments": {},
   "cell_type": "markdown",
   "id": "da2af542-3da0-46a4-8f03-67e60483986d",
   "metadata": {
    "tags": []
   },
   "source": [
    "Note that the VAF is now over 90%! At this point we could stop because the VAF is so high. However we will attempt to refine our estimates of $h(\\tau)$ and $n1(\\centerdot)$ to see if we can achieve an even higher VAF."
   ]
  },
  {
   "attachments": {},
   "cell_type": "markdown",
   "id": "2df7473d-93ee-45e5-a6d6-cce557d1d01e",
   "metadata": {
    "tags": []
   },
   "source": [
    "#### Function reversion (sometimes called function inversion)"
   ]
  },
  {
   "attachments": {},
   "cell_type": "markdown",
   "id": "ee8d9a3c-d45a-4c32-85cb-201951b7d327",
   "metadata": {},
   "source": [
    "There are many occasions in which given a function y = f(x) we want to find a function x = g(y). Function g() is often called the inverse function of f() in engineering and sometimes in mathematics texts it is called the reversion of f(). For example, you might have a function  voltage = f(temperature) relating the voltage generated by a thermocouple junction to its temperature. However if you measure the voltage across a thermocouple junction and wish to deduce the its temperature you need the inverse function, g(), so that given a voltage you can calculate the temperature via    temperature = g(voltage)."
   ]
  },
  {
   "attachments": {},
   "cell_type": "markdown",
   "id": "5735dd62-c2ba-4458-a674-4d5bf492fd12",
   "metadata": {
    "tags": []
   },
   "source": [
    "Many of the worlds most famous mathematicians have worked on the reversion problem including Gauss and Lagrange."
   ]
  },
  {
   "attachments": {},
   "cell_type": "markdown",
   "id": "77f0c7a9-4eb7-4af3-ab94-fad5a7924816",
   "metadata": {
    "tags": []
   },
   "source": [
    "For example, the reversion (or inverse) of  y = sin (x) is x = arcsin (y)"
   ]
  },
  {
   "attachments": {},
   "cell_type": "markdown",
   "id": "656bb40e-b4d3-48eb-a0f4-08743f8848d2",
   "metadata": {},
   "source": [
    "We would like to find the reversion of  $n1(\\centerdot)$ so that given $y(t)$ we can generate a new estimate of $u(t)$."
   ]
  },
  {
   "attachments": {},
   "cell_type": "markdown",
   "id": "092c3b0e-4e09-42d6-9db2-66b5df7c7739",
   "metadata": {
    "tags": []
   },
   "source": [
    "A simple way to \"invert\" $n1(\\centerdot)$ is to reverse the roles of $y(t)$ and $u1(t)$ and refit a high order polynomial to $u1(t)$ vs $y(t)$. We could use traditional polynomials like we did before but they do a bad job. A better approach is to interpolate $n1(\\centerdot)$ using an interpolation algorithm such as scipy interpolate and generate a data set, $uu(t)$ and $yy(t)$ data set. Now we repeat the interpolation but now use $yy(t)$ and $uu(t)$ to get the interpolated function inverse through which we can can now pass $y(t)$ to get an estimate of $u(t)$ we will call $u1a(t)$."
   ]
  },
  {
   "attachments": {},
   "cell_type": "markdown",
   "id": "457de3c2-9aa8-4535-a815-bab74604ce68",
   "metadata": {},
   "source": [
    "#### Revsion via Interpolation"
   ]
  },
  {
   "cell_type": "code",
   "execution_count": null,
   "id": "f3fde48c-f9a5-42c8-9e70-da6cfa9f1360",
   "metadata": {
    "tags": []
   },
   "outputs": [],
   "source": [
    "uu=np.arange(np.min(u1b),np.max(u1b),0.001)\n",
    "yy=n(uu,c1)\n",
    "ninv=interpolate.interp1d(yy,uu,fill_value='extrapolate',assume_sorted=True)\n",
    "u2a=ninv(y)"
   ]
  },
  {
   "cell_type": "code",
   "execution_count": null,
   "id": "a6842b90-8fe5-43cf-b259-b9848c7caebc",
   "metadata": {
    "tags": []
   },
   "outputs": [],
   "source": [
    "plt.rcParams['figure.figsize'] = [8, 5]\n",
    "plt.plot(y[::5], u1b[::5], 'k,') \n",
    "plt.plot(yy, uu, 'r')\n",
    "plt.xlabel('y Amplitude')\n",
    "plt.ylabel('u Amplitude')\n",
    "plt.title(r'u1b(t) vs y(t) (black) and $n1^{-1}(.)$ (red)')\n",
    "plt.grid()\n",
    "plt.show()"
   ]
  },
  {
   "attachments": {},
   "cell_type": "markdown",
   "id": "c42258d7-57ad-4c09-b594-04bcb3724429",
   "metadata": {},
   "source": [
    "#### Determine a New $h2(\\tau)$ Estimate"
   ]
  },
  {
   "attachments": {},
   "cell_type": "markdown",
   "id": "8d7b9080-25a8-4977-85a8-64e8a946de83",
   "metadata": {},
   "source": [
    "Now that we have a new estimate, $u2a(t)$ we can use our linear system identification techniques again to give a new estimate of the impulse response function, $h2(\\tau)$, but now without the nonlinearity:"
   ]
  },
  {
   "cell_type": "code",
   "execution_count": null,
   "id": "157aa9e8-85cc-47c0-9c58-7e6ff0a56b35",
   "metadata": {
    "tags": []
   },
   "outputs": [],
   "source": [
    "cxx=dt*signal.correlate(x-np.mean(x),x-np.mean(x),mode='same',method='auto')[round(ni/2):round(ni/2)+mi] # x auto-correlation\n",
    "cux=dt*signal.correlate(u2a-np.mean(u2a),x-np.mean(x),mode='same',method='auto')[round(ni/2):round(ni/2)+mi] # xu cross-correlation\n",
    "toe=toeplitz(cxx)\n",
    "h2=solve_toeplitz(cxx,cux)/dt"
   ]
  },
  {
   "cell_type": "code",
   "execution_count": null,
   "id": "9caa521c-3ae8-4ae2-8563-1845a6bbba14",
   "metadata": {
    "tags": []
   },
   "outputs": [],
   "source": [
    "plt.rcParams['figure.figsize'] = [8, 7]\n",
    "plt.plot(tau, h/np.trapz(h,tau), 'r',linewidth=1)\n",
    "plt.plot(tau, h2/np.trapz(h2,tau), 'b.',markersize=1)\n",
    "plt.title('h (red) and h2 (blue)')\n",
    "plt.xlabel('Time (s)')\n",
    "plt.ylabel('Amplitude')\n",
    "plt.grid()\n",
    "plt.show()"
   ]
  },
  {
   "attachments": {},
   "cell_type": "markdown",
   "id": "1368eab4-30c6-476d-92d5-7efc98c20ddb",
   "metadata": {},
   "source": [
    "Note that we have almost exactly discovered the orginal IRF."
   ]
  },
  {
   "attachments": {},
   "cell_type": "markdown",
   "id": "efb23616-b4e7-4305-a837-933aa1f98eed",
   "metadata": {},
   "source": [
    "#### Determine a New $u2b(t)$ Estimate"
   ]
  },
  {
   "attachments": {},
   "cell_type": "markdown",
   "id": "c53cc394-347d-4d39-9ee4-4ce0ebb4b970",
   "metadata": {},
   "source": [
    "Now that we have a new estimate of the IRF, $h2(\\tau)$ we can generate a new prediction $u2b(t)$:"
   ]
  },
  {
   "cell_type": "code",
   "execution_count": null,
   "id": "90d81f04-e6e1-4133-83f5-c461c24dba89",
   "metadata": {
    "tags": []
   },
   "outputs": [],
   "source": [
    "u2b=dt*np.convolve(x,h2)[0:ni] # need just the first ni values"
   ]
  },
  {
   "attachments": {},
   "cell_type": "markdown",
   "id": "ee1fbb1e-31ac-4d8d-846c-4179d4958501",
   "metadata": {},
   "source": [
    "#### Determine a new  $n2(\\centerdot)$ Estimate"
   ]
  },
  {
   "attachments": {},
   "cell_type": "markdown",
   "id": "0acb12e0-497d-47a6-aad8-9b4a0454a0b5",
   "metadata": {},
   "source": [
    "And determine a new $n2(\\centerdot)$ estimate;"
   ]
  },
  {
   "cell_type": "code",
   "execution_count": null,
   "id": "313d8d75-5b16-41e8-bd94-fdc167b29780",
   "metadata": {
    "tags": []
   },
   "outputs": [],
   "source": [
    "c2=np.polynomial.polynomial.polyfit(u2b,y,deg=[0,1,3,5,7,9],full=False)"
   ]
  },
  {
   "attachments": {},
   "cell_type": "markdown",
   "id": "27fb9860-10e9-4cd8-a275-1d7d37f1a53d",
   "metadata": {},
   "source": [
    "Lets plot this estimate,  $n2(\\centerdot)$, of the nonlinearity (red) together with the cross-plot of $u2b(t)$ vs $y(t)$ (black):"
   ]
  },
  {
   "cell_type": "code",
   "execution_count": null,
   "id": "d69726e7-a6c7-45c8-b0f4-eae404ba149c",
   "metadata": {
    "tags": []
   },
   "outputs": [],
   "source": [
    "uu=np.arange(np.min(u2b),np.max(u2b),0.01)\n",
    "plt.rcParams['figure.figsize'] = [8, 5]\n",
    "plt.plot(u2b[::5],y[::5], 'k,') \n",
    "plt.plot(uu, n(uu,c2), 'r')\n",
    "plt.xlabel('u Amplitude')\n",
    "plt.ylabel('y Amplitude')\n",
    "plt.title('u2b(t) vs y(t) (black) and n2(.) (red)')\n",
    "plt.grid()\n",
    "plt.show()"
   ]
  },
  {
   "attachments": {},
   "cell_type": "markdown",
   "id": "22eb104c-eaa4-4894-93f4-2c12aa8f8b16",
   "metadata": {
    "tags": []
   },
   "source": [
    "#### Predict Output Again"
   ]
  },
  {
   "attachments": {},
   "cell_type": "markdown",
   "id": "0b2ca879-c1ce-449f-9753-83e85d5ec826",
   "metadata": {},
   "source": [
    "Now that we have the new estimate,  $n3(\\centerdot)$, we can predict the output, $y3(t)$, from our $u3(t)$ estimate:"
   ]
  },
  {
   "cell_type": "code",
   "execution_count": null,
   "id": "9a848098-6ec5-4651-ad21-ec8791e73d8f",
   "metadata": {
    "tags": []
   },
   "outputs": [],
   "source": [
    "y2=n(u2b,c2)"
   ]
  },
  {
   "cell_type": "code",
   "execution_count": null,
   "id": "a7b8bd86-d64a-4434-9452-bf2eb625c97e",
   "metadata": {
    "tags": []
   },
   "outputs": [],
   "source": [
    "plt.rcParams['figure.figsize'] = [8, 5]\n",
    "plt.plot(t, y, 'b',linewidth=0.4)\n",
    "plt.plot(t, y2, 'r',linewidth=0.4)\n",
    "plt.xlabel('Time (s)')\n",
    "plt.ylabel('Amplitude')\n",
    "plt.title('Output Signal, y(t) (blue), and Predicted Output, y2(t) (red)')\n",
    "plt.grid()\n",
    "plt.show()"
   ]
  },
  {
   "cell_type": "code",
   "execution_count": null,
   "id": "4293a750-bc44-4de7-acf8-992d83b06995",
   "metadata": {},
   "outputs": [],
   "source": []
  },
  {
   "attachments": {},
   "cell_type": "markdown",
   "id": "0cbf7e42-3c3b-46c4-92a7-e3ed09c70173",
   "metadata": {
    "tags": []
   },
   "source": [
    "The prediction is so good. Lets calculate the residuals, $r3(t)$:"
   ]
  },
  {
   "cell_type": "code",
   "execution_count": null,
   "id": "ef189400-9d1c-4243-b6e4-ec0b4dadae13",
   "metadata": {
    "tags": []
   },
   "outputs": [],
   "source": [
    "r2 = y - y2;"
   ]
  },
  {
   "cell_type": "code",
   "execution_count": null,
   "id": "e2a49678-cabd-4d12-96df-a65cd181eca7",
   "metadata": {
    "tags": []
   },
   "outputs": [],
   "source": [
    "VAF2=100.0*(1-np.var(r2)/np.var(y))\n",
    "VAF2"
   ]
  },
  {
   "attachments": {},
   "cell_type": "markdown",
   "id": "0fdb58e5-50d9-4de8-beb5-63548f0fdda5",
   "metadata": {
    "tags": []
   },
   "source": [
    "Note that the VAF has increased a little. At this point we stop. But if required we could continue the cycle to see if we could improve the estimates even further."
   ]
  },
  {
   "attachments": {},
   "cell_type": "markdown",
   "id": "1281f527-5aa4-4452-8ed1-7d1383a800a3",
   "metadata": {},
   "source": [
    "#### Wiener System ID"
   ]
  },
  {
   "attachments": {},
   "cell_type": "markdown",
   "id": "8f57ebef-0775-49e9-b76e-415a2392b6ea",
   "metadata": {},
   "source": [
    "We now gather together the various operations:"
   ]
  },
  {
   "cell_type": "code",
   "execution_count": null,
   "id": "f36dfa4f-60c7-4915-bfff-52ef692691f1",
   "metadata": {
    "tags": []
   },
   "outputs": [],
   "source": [
    "# Initial Calculations\n",
    "cxx=dt*signal.correlate(x-np.mean(x),x-np.mean(x),mode='same',method='auto')[round(ni/2):round(ni/2)+mi] # x auto-correlation\n",
    "cyx=dt*signal.correlate(y-np.mean(y),x-np.mean(x),mode='same',method='auto')[round(ni/2):round(ni/2)+mi] # xy cross-correlation\n",
    "toe=toeplitz(cxx)\n",
    "h1=solve_toeplitz(cxx,cyx)/dt\n",
    "u1b=dt*np.convolve(x,h1)[0:ni] # need just the first ni values\n",
    "r0=y-u1b\n",
    "VAF0=100.0*(1-np.var(r0)/np.var(y))\n",
    "\n",
    "# First Iteration\n",
    "c1=np.polynomial.polynomial.polyfit(u1b,y,deg=[0,1,3,5,7,9],full=False)\n",
    "y1=n(u1b,c1)\n",
    "r1 = y - y1;\n",
    "VAF1=100.0*(1-np.var(r1)/np.var(y))\n",
    "\n",
    "# Second Iteration\n",
    "uu=np.arange(np.min(u1b),np.max(u1b),0.001)\n",
    "yy=n(uu,c1)\n",
    "ninv=interpolate.interp1d(yy,uu,fill_value='extrapolate',assume_sorted=True)\n",
    "u2a=ninv(y)\n",
    "cxx=dt*signal.correlate(x-np.mean(x),x-np.mean(x),mode='same',method='auto')[round(ni/2):round(ni/2)+mi] # x auto-correlation\n",
    "cux=dt*signal.correlate(u2a-np.mean(u2a),x-np.mean(x),mode='same',method='auto')[round(ni/2):round(ni/2)+mi] # xu cross-correlation\n",
    "toe=toeplitz(cxx)\n",
    "h2=solve_toeplitz(cxx,cux)/dt\n",
    "u2b=dt*np.convolve(x,h2)[0:ni] # need just the first ni values\n",
    "c2=np.polynomial.polynomial.polyfit(u2b,y,deg=[0,1,3,5,7,9],full=False)\n",
    "y2=n(u2b,c2)\n",
    "r2 = y - y2;\n",
    "VAF2=100.0*(1-np.var(r2)/np.var(y))\n",
    "\n",
    "# Third Iteration\n",
    "uu=np.arange(np.min(u2b),np.max(u2b),0.001)\n",
    "yy=n(uu,c2)\n",
    "ninv=interpolate.interp1d(yy,uu,fill_value='extrapolate',assume_sorted=True)\n",
    "u3a=ninv(y)\n",
    "cxx=dt*signal.correlate(x-np.mean(x),x-np.mean(x),mode='same',method='auto')[round(ni/2):round(ni/2)+mi] # x auto-correlation\n",
    "cux=dt*signal.correlate(u3a-np.mean(u3a),x-np.mean(x),mode='same',method='auto')[round(ni/2):round(ni/2)+mi] # xu cross-correlation\n",
    "toe=toeplitz(cxx)\n",
    "h3=solve_toeplitz(cxx,cux)/dt\n",
    "u3b=dt*np.convolve(x,h3)[0:ni] # need just the first ni values\n",
    "c3=np.polynomial.polynomial.polyfit(u3b,y,deg=[0,1,3,5,7,9],full=False)\n",
    "y3=n(u3b,c3)\n",
    "r3 = y - y3;\n",
    "VAF3=100.0*(1-np.var(r3)/np.var(y))\n",
    "\n",
    "[VAF0,VAF1,VAF2,VAF3]"
   ]
  },
  {
   "cell_type": "code",
   "execution_count": null,
   "id": "9fd944e2-2e1e-4051-982e-48a54a6f4a17",
   "metadata": {
    "tags": []
   },
   "outputs": [],
   "source": [
    "plt.rcParams['figure.figsize'] = [8, 5]\n",
    "plt.plot([0,1,2,3], [VAF0,VAF1,VAF2,VAF3], 'k',linewidth=0.4)\n",
    "plt.plot([0,1,2,3], [VAF0,VAF1,VAF2,VAF3], 'ro',linewidth=0.4)\n",
    "plt.xlabel('Iteration')\n",
    "plt.ylabel('%VAF')\n",
    "plt.title('%VAF vs Iteration')\n",
    "plt.grid()\n",
    "plt.show()"
   ]
  },
  {
   "cell_type": "code",
   "execution_count": null,
   "id": "685bafdc-17d8-4485-9211-da7b2e0798ee",
   "metadata": {},
   "outputs": [],
   "source": []
  },
  {
   "cell_type": "code",
   "execution_count": null,
   "id": "40776dc9-970a-4973-84ee-ab232671b72f",
   "metadata": {},
   "outputs": [],
   "source": []
  },
  {
   "cell_type": "code",
   "execution_count": null,
   "id": "59cb4f09-9753-470b-9782-9e1ef26bc1b0",
   "metadata": {},
   "outputs": [],
   "source": []
  }
 ],
 "metadata": {
  "kernelspec": {
   "display_name": "Python 3 (ipykernel)",
   "language": "python",
   "name": "python3"
  },
  "language_info": {
   "codemirror_mode": {
    "name": "ipython",
    "version": 3
   },
   "file_extension": ".py",
   "mimetype": "text/x-python",
   "name": "python",
   "nbconvert_exporter": "python",
   "pygments_lexer": "ipython3",
   "version": "3.10.9"
  }
 },
 "nbformat": 4,
 "nbformat_minor": 5
}
