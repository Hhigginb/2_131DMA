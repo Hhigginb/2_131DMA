{
 "cells": [
  {
   "cell_type": "markdown",
   "id": "ed7a7abd-d6e2-4f59-826d-6b7fa42df3c7",
   "metadata": {
    "tags": []
   },
   "source": [
    "##  $$\\color{blue}{\\text{2.131: Artificial Muscle}} $$"
   ]
  },
  {
   "cell_type": "markdown",
   "id": "8a898baa-f82e-456b-b6be-310cf48051b7",
   "metadata": {
    "tags": []
   },
   "source": [
    "#### <center> HH, 9 May 2023"
   ]
  },
  {
   "cell_type": "markdown",
   "id": "bc81416f-824c-4301-a1bb-e5061935bab2",
   "metadata": {
    "tags": []
   },
   "source": [
    "Version Notes:  \n",
    "-  9 May 2023 Started from StepMotor code, added Potentiometer and Load Cell codes"
   ]
  },
  {
   "cell_type": "markdown",
   "id": "6c37aae0-f752-4fdf-84bc-87a9323e2c9d",
   "metadata": {
    "tags": []
   },
   "source": [
    "***"
   ]
  },
  {
   "cell_type": "markdown",
   "id": "4a8f6ede-4ed3-475a-b822-6b986ac91def",
   "metadata": {
    "tags": []
   },
   "source": [
    "#### Objectives"
   ]
  },
  {
   "cell_type": "markdown",
   "id": "76559ced-8572-404c-9ccc-5f09c9ebcfea",
   "metadata": {},
   "source": [
    "Notes from Michael:\n",
    "-map displacement to load/vice versa, calculate gain/phase/transfer function for dif freq.s (can try to fit second order model to transfer function)\n",
    "-try 100 freq.s (call digilent with SDK python examples)\n",
    "-define in terms of mechanical impedance vs freq.\n",
    "-any sense of what mech impedance to expect for "
   ]
  },
  {
   "cell_type": "markdown",
   "id": "0a00462c-f821-41ff-9560-27002d69c8fe",
   "metadata": {
    "tags": []
   },
   "source": [
    "-drive a geared step motor (see https://www.omc-stepperonline.com/download/17HS13-0404S-PG5.pdf ) to desired position or until desired force condition\n",
    "\n",
    "-input waveform to LFA\n",
    "\n",
    "-read position from potentiometer\n",
    "\n",
    "-read load from load cell"
   ]
  },
  {
   "cell_type": "markdown",
   "id": "90177d42-f428-4ecd-a7c4-201c07dc9340",
   "metadata": {
    "tags": []
   },
   "source": [
    "stepper is driven by a TinkerForge step motor controller (called the TinkerForge Silent Stepper Bricklet (see https://www.tinkerforge.com/en/doc/Hardware/Bricklets/Silent_Stepper_V2.html ) or the TinkerForge Silent Stepper Brick (see https://www.tinkerforge.com/en/doc/Hardware/Bricks/Silent_Stepper_Brick.html ) and powered by DeWalt 20V battery.\n",
    "The step motor needs to rotate by 5.18 turns to produce a single turn of the gear box output shaft (i.e., its gear ratio is 5.18:1)\n",
    "\n",
    "Waveform is delivered from Digilent to amplifier to LFA.\n",
    "Potentiometer is read by bricklet (Industrial Dual Analog In).\n",
    "Load cell is read by load cell bricklet."
   ]
  },
  {
   "cell_type": "markdown",
   "id": "2c81f5d7-8630-458e-82c3-6674ffb02d93",
   "metadata": {
    "tags": []
   },
   "source": [
    "#### Import Standard Libraries"
   ]
  },
  {
   "cell_type": "code",
   "execution_count": 90,
   "id": "30b46cb3-8c49-4bd3-827e-a8ae24858c02",
   "metadata": {
    "tags": []
   },
   "outputs": [],
   "source": [
    "import numpy as np # works with complex but one of the arguments must be complex\n",
    "import matplotlib.pyplot as plt\n",
    "import time\n",
    "from scipy import stats\n",
    "%matplotlib inline\n",
    "#%config InlineBackend.figure_format = 'png' # use 'png' instead of 'svg' when converting to HTML for assignment submission\n",
    "%config InlineBackend.figure_format = 'svg' # this is key to improving plot resolution"
   ]
  },
  {
   "cell_type": "markdown",
   "id": "ccda4999-b9d1-4323-a4c6-b12cd7cabb96",
   "metadata": {
    "tags": []
   },
   "source": [
    "#### Setup Devices"
   ]
  },
  {
   "cell_type": "code",
   "execution_count": 91,
   "id": "fa769bad-7444-44df-89b3-5e4847ab1baa",
   "metadata": {
    "tags": []
   },
   "outputs": [],
   "source": [
    "# Only need to do this after a JupyterLab upgrade\n",
    "#!pip install tinkerforge"
   ]
  },
  {
   "cell_type": "code",
   "execution_count": 92,
   "id": "7e14b739-bff3-4206-ac7c-f05fd0d8e2b9",
   "metadata": {
    "tags": []
   },
   "outputs": [],
   "source": [
    "HOST = \"localhost\"\n",
    "PORT = 4223\n",
    "UID_SS = \"21bG\" # Change XYZ to the UID of your Silent Stepper Bricklet\n",
    "UID = \"LZv\" # Change XYZ to the UID of your Industrial Dual Analog In Bricklet 2.0\n",
    "UID_LC = \"Kin\" # Change XYZ to the UID of your Load Cell Bricklet 2.0\n",
    "\n",
    "from tinkerforge.ip_connection import IPConnection\n",
    "from tinkerforge.bricklet_silent_stepper_v2 import BrickletSilentStepperV2\n",
    "#from tinkerforge.brick_silent_stepper import BrickSilentStepper\n",
    "from tinkerforge.bricklet_imu_v3 import BrickletIMUV3\n",
    "from tinkerforge.bricklet_thermocouple_v2 import BrickletThermocoupleV2\n",
    "\n",
    "from tinkerforge.bricklet_industrial_dual_analog_in_v2 import BrickletIndustrialDualAnalogInV2\n",
    "\n",
    "from tinkerforge.bricklet_load_cell_v2 import BrickletLoadCellV2\n",
    "\n",
    "ipcon = IPConnection() # Create IP connection\n",
    "# remember to use the TinkerForge viewer to get the UID's of the various devices below (red string)\n",
    "\n",
    "ss = BrickletSilentStepperV2(UID_SS, ipcon) # Create device object\n",
    "#ss = BrickSilentStepper(UID, ipcon) # Create device object\n",
    "idai = BrickletIndustrialDualAnalogInV2(UID, ipcon) # Create device object\n",
    "lc = BrickletLoadCellV2(UID_LC, ipcon) # Create device object\n",
    "\n",
    "ipcon.connect(HOST, PORT) # Connect to brickd\n",
    "time.sleep(1) # Don't use device before ipcon is connected"
   ]
  },
  {
   "cell_type": "markdown",
   "id": "63672a73-9b03-470e-84de-cef366db9757",
   "metadata": {},
   "source": [
    "#### Set TinkerForge Parameters"
   ]
  },
  {
   "cell_type": "code",
   "execution_count": 93,
   "id": "3c690dc8-4b84-4552-a054-aced269fb3b3",
   "metadata": {
    "tags": []
   },
   "outputs": [],
   "source": [
    "# Step motors have 200 marco steps/rev\n",
    "# the gear box is 5.18:1 which means that the step motor has to rotate 5.18 revs to produce 1 rev of gear box output shaft\n",
    "ss.set_motor_current(800) # 800 mA\n",
    "ss.set_step_configuration(ss.STEP_RESOLUTION_128, True) # 128 micro-steps (usteps) per macro step\n",
    "# 128 * 200 usteps per rev = 25,600 usteps/rev\n",
    "ss.set_max_velocity(round(1280*5.18)) # Velocity 1,280 * 5.18 usteps/s = 0.05 rev /s of gear box output shaft\n",
    "# max velocity is 2**16-1 = 65,535\n",
    "ss.set_speed_ramping(65535,65535) # max accel and decel\n",
    "\n",
    "ss.set_enabled(False) # Disable motor power\n",
    "#ss.enable() # Enable motor power"
   ]
  },
  {
   "cell_type": "markdown",
   "id": "2925660f-ca7c-4ef0-94ac-99fd0ee3aec1",
   "metadata": {},
   "source": [
    "#### Run Experiment"
   ]
  },
  {
   "cell_type": "code",
   "execution_count": null,
   "id": "d8a039f2-3897-4ace-bd17-0d4192d1fddd",
   "metadata": {},
   "outputs": [],
   "source": [
    "LC_file = datetime.now().strftime('DMA-%Y-%m-%d-%H-%M-%S.csv')\n",
    "Pot_file = datetime.now().strftime('DMA-%Y-%m-%d-%H-%M-%S.csv')\n",
    "\n",
    "# Callback function for weight callback\n",
    "def cb_weight(weight):\n",
    "\n",
    "    with open(LC_file, 'a') as f_object:\n",
    "        writer_object = writer(f_object)\n",
    "        writer_object.writerow([datetime.now().strftime('%H:%M:%S:%f'),weight])\n",
    "        f_object.close()\n",
    "        #print(\"Weight: \" + str(weight) + \" g\")\n",
    "        \n",
    "# Callback function for voltage callback\n",
    "def cb_voltage(channel, voltage):\n",
    "    print(\"Channel: \" + str(channel))\n",
    "    print(\"Voltage: \" + str(voltage/1000.0) + \" V\")\n",
    "    print(\"\")\n",
    "        \n",
    "# Set period for weight callback to 1s (1000ms) without a threshold\n",
    "lc.set_weight_callback_configuration(12, False, \"x\", 0, 0)\n",
    "    \n",
    "# Callback\n",
    "lc.register_callback(lc.CALLBACK_WEIGHT, cb_weight)\n",
    "    \n",
    "input(\"Press key to exit\\n\") # Use raw_input() in Python 2\n",
    "ipcon.disconnect()"
   ]
  },
  {
   "cell_type": "markdown",
   "id": "296f7074-dd49-44ea-a240-ecb6c944f097",
   "metadata": {},
   "source": [
    "#### Plot Data"
   ]
  },
  {
   "cell_type": "code",
   "execution_count": 1,
   "id": "8fc3a823-3833-4025-83f6-329139f10086",
   "metadata": {
    "tags": []
   },
   "outputs": [
    {
     "ename": "NameError",
     "evalue": "name 'plt' is not defined",
     "output_type": "error",
     "traceback": [
      "\u001b[1;31m---------------------------------------------------------------------------\u001b[0m",
      "\u001b[1;31mNameError\u001b[0m                                 Traceback (most recent call last)",
      "Cell \u001b[1;32mIn[1], line 1\u001b[0m\n\u001b[1;32m----> 1\u001b[0m \u001b[43mplt\u001b[49m\u001b[38;5;241m.\u001b[39mrcParams[\u001b[38;5;124m'\u001b[39m\u001b[38;5;124mfigure.figsize\u001b[39m\u001b[38;5;124m'\u001b[39m] \u001b[38;5;241m=\u001b[39m [\u001b[38;5;241m8\u001b[39m, \u001b[38;5;241m5\u001b[39m]\n\u001b[0;32m      2\u001b[0m fig, ax \u001b[38;5;241m=\u001b[39m plt\u001b[38;5;241m.\u001b[39msubplots()\n\u001b[0;32m      3\u001b[0m \u001b[38;5;66;03m#plt.plot(t,heading,'ro',markersize=1)\u001b[39;00m\n",
      "\u001b[1;31mNameError\u001b[0m: name 'plt' is not defined"
     ]
    }
   ],
   "source": [
    "plt.rcParams['figure.figsize'] = [8, 5]\n",
    "fig, ax = plt.subplots()\n",
    "#plt.plot(t,heading,'ro',markersize=1)\n",
    "plt.xlabel('Time (s)')\n",
    "#plt.ylabel('Force ()')\n",
    "plt.ylabel('Displacement ()')\n",
    "plt.title('')\n",
    "ax.grid()\n",
    "plt.show()"
   ]
  },
  {
   "cell_type": "code",
   "execution_count": null,
   "id": "3f17bab4-1a44-474b-b431-a806a26a90ca",
   "metadata": {},
   "outputs": [],
   "source": []
  }
 ],
 "metadata": {
  "kernelspec": {
   "display_name": "Python 3 (ipykernel)",
   "language": "python",
   "name": "python3"
  },
  "language_info": {
   "codemirror_mode": {
    "name": "ipython",
    "version": 3
   },
   "file_extension": ".py",
   "mimetype": "text/x-python",
   "name": "python",
   "nbconvert_exporter": "python",
   "pygments_lexer": "ipython3",
   "version": "3.10.9"
  }
 },
 "nbformat": 4,
 "nbformat_minor": 5
}
